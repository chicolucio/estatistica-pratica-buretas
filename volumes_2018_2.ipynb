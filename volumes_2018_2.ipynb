{
 "cells": [
  {
   "cell_type": "markdown",
   "metadata": {},
   "source": [
    "# Introdução"
   ]
  },
  {
   "cell_type": "markdown",
   "metadata": {},
   "source": [
    "Este arquivo se refere aos dados obtidos pela turma de Química Geral I do curso de Processos\n",
    "Químicos do IFRJ _campus_ Rio de Janeiro, no 2º semestre de 2018, em uma prática de laboratório cujo objetivo era ensinar\n",
    "aos alunos como ler o volume escoado de um dado líquido em buretas e analisar os resultados da turma como um todo, entendendo os motivos que levam a ter leituras distintas.\n",
    "\n",
    "Ao se repetir várias vezes uma medição são encontrados vários resultados diferentes,\n",
    "embora alguns possam coincidir. Ou seja, ao medir várias vezes a mesma grandeza, usando\n",
    "o mesmo instrumento e o mesmo observador é possı́vel que as medidas encontradas sejam\n",
    "diferentes. A isto se chama *dispersão* das medidas.\n",
    "\n",
    "No caso em questão, foram realizadas diversas medidas por diferentes pessoas. As medidas\n",
    "foram de volume escoado em buretas. O líquido da primeira bureta era água e o da segunda\n",
    "era uma solução de permanganato de potássio, que possui uma coloração roxa intensa.\n",
    "\n",
    "O objetivo é demonstrar que, realizando muitas medidas, boa parte irá se concentrar ao redor\n",
    "de uma faixa de valores. Eventualmente, podem surgir valores discrepantes (*outliers*) que\n",
    "podem ser devido a erros de leitura. A forma correta de ler uma escala em uma vidraria \n",
    "como a bureta é manter a escala na altura dos olhos. Em soluções aquosas, a leitura do volume\n",
    "é feita pela parte de baixo do menisco formado pelo líquido. No entanto, quando o líquido\n",
    "é muito escuro, como no caso da solução de permanganto, a visualização do menisco fica dificultada.\n",
    "\n",
    "O erro devido a uma leitura feita acima ou abaixo da linha do menisco do líquido é chamado de\n",
    "**erro de paralaxe** e é exemplificado na figura abaixo. Esse erro é uma possível fonte de\n",
    "*outliers* por ser um erro grosseiro.\n",
    "\n",
    "<img src='images/parallax.png' width=200 height=200>\n",
    "\n",
    "A dispersão nos valores, desconsiderando erros grosseiros, podem ter diversas origens.\n",
    "Como as medidas são feitas por pessoas distintas, a própria acuidade visual da pessoa\n",
    "pode afetar, além de efeitos de iluminação do local, reflexos no caso de usuários de óculos,\n",
    "dentre diversos outros fatores.\n",
    "\n",
    "Tópicos que podem ser discutidos com base nesse experimento:\n",
    "\n",
    "- conceitos de *precisão* e *exatidão*\n",
    "- conceitos de *repetibilidade* e *reprodutibilidade*\n",
    "- tipos de erros (grosseiros, sistemáticos, randômicos)\n",
    "- conceitos básicos de estatística (dispersão, média, mediana, algarismos significativos)\n",
    "- construção e interpretação de histogramas e boxplots\n",
    "    - influência da largura de classes (*bins*) na interpretação de um histograma"
   ]
  },
  {
   "cell_type": "markdown",
   "metadata": {},
   "source": [
    "# Setup"
   ]
  },
  {
   "cell_type": "markdown",
   "metadata": {},
   "source": [
    "Importe as seguintes bibliotecas para que os exemplos e tratamentos dos dados do notebook funcionem."
   ]
  },
  {
   "cell_type": "code",
   "execution_count": 1,
   "metadata": {
    "ExecuteTime": {
     "end_time": "2020-01-16T16:26:52.737482Z",
     "start_time": "2020-01-16T16:26:52.456614Z"
    }
   },
   "outputs": [],
   "source": [
    "import pandas as pd\n",
    "import numpy as np\n",
    "import matplotlib.pyplot as plt"
   ]
  },
  {
   "cell_type": "markdown",
   "metadata": {},
   "source": [
    "A biblioteca a seguir foi criada especialmente para esse trabalho, permitindo uma rápida análise dos dados e geração de gráficos."
   ]
  },
  {
   "cell_type": "code",
   "execution_count": 2,
   "metadata": {
    "ExecuteTime": {
     "end_time": "2020-01-16T16:26:52.740901Z",
     "start_time": "2020-01-16T16:26:52.738665Z"
    }
   },
   "outputs": [],
   "source": [
    "import statistics"
   ]
  },
  {
   "cell_type": "markdown",
   "metadata": {},
   "source": [
    "# Importação dos dados"
   ]
  },
  {
   "cell_type": "markdown",
   "metadata": {},
   "source": [
    "Vamos importar os valores lidos pelos alunos, que estão salvos em uma planilha em formato csv."
   ]
  },
  {
   "cell_type": "code",
   "execution_count": 3,
   "metadata": {
    "ExecuteTime": {
     "end_time": "2020-01-16T16:26:52.999405Z",
     "start_time": "2020-01-16T16:26:52.742231Z"
    }
   },
   "outputs": [
    {
     "data": {
      "text/html": [
       "<div>\n",
       "<style scoped>\n",
       "    .dataframe tbody tr th:only-of-type {\n",
       "        vertical-align: middle;\n",
       "    }\n",
       "\n",
       "    .dataframe tbody tr th {\n",
       "        vertical-align: top;\n",
       "    }\n",
       "\n",
       "    .dataframe thead th {\n",
       "        text-align: right;\n",
       "    }\n",
       "</style>\n",
       "<table border=\"1\" class=\"dataframe\">\n",
       "  <thead>\n",
       "    <tr style=\"text-align: right;\">\n",
       "      <th></th>\n",
       "      <th>agua / mL</th>\n",
       "      <th>KMnO4 / mL</th>\n",
       "    </tr>\n",
       "  </thead>\n",
       "  <tbody>\n",
       "    <tr>\n",
       "      <th>0</th>\n",
       "      <td>16.00</td>\n",
       "      <td>22.50</td>\n",
       "    </tr>\n",
       "    <tr>\n",
       "      <th>1</th>\n",
       "      <td>16.10</td>\n",
       "      <td>22.40</td>\n",
       "    </tr>\n",
       "    <tr>\n",
       "      <th>2</th>\n",
       "      <td>16.00</td>\n",
       "      <td>22.50</td>\n",
       "    </tr>\n",
       "    <tr>\n",
       "      <th>3</th>\n",
       "      <td>16.12</td>\n",
       "      <td>22.41</td>\n",
       "    </tr>\n",
       "    <tr>\n",
       "      <th>4</th>\n",
       "      <td>16.16</td>\n",
       "      <td>22.38</td>\n",
       "    </tr>\n",
       "  </tbody>\n",
       "</table>\n",
       "</div>"
      ],
      "text/plain": [
       "   agua / mL  KMnO4 / mL\n",
       "0      16.00       22.50\n",
       "1      16.10       22.40\n",
       "2      16.00       22.50\n",
       "3      16.12       22.41\n",
       "4      16.16       22.38"
      ]
     },
     "execution_count": 3,
     "metadata": {},
     "output_type": "execute_result"
    }
   ],
   "source": [
    "df = pd.read_csv('dados_brutos/volumes2018_2.csv')\n",
    "df.head()"
   ]
  },
  {
   "cell_type": "markdown",
   "metadata": {},
   "source": [
    "Breve detalhamento dos dados com o método `describe` do `pandas`."
   ]
  },
  {
   "cell_type": "code",
   "execution_count": 4,
   "metadata": {
    "ExecuteTime": {
     "end_time": "2020-01-16T16:26:53.310534Z",
     "start_time": "2020-01-16T16:26:53.000588Z"
    }
   },
   "outputs": [
    {
     "data": {
      "text/html": [
       "<div>\n",
       "<style scoped>\n",
       "    .dataframe tbody tr th:only-of-type {\n",
       "        vertical-align: middle;\n",
       "    }\n",
       "\n",
       "    .dataframe tbody tr th {\n",
       "        vertical-align: top;\n",
       "    }\n",
       "\n",
       "    .dataframe thead th {\n",
       "        text-align: right;\n",
       "    }\n",
       "</style>\n",
       "<table border=\"1\" class=\"dataframe\">\n",
       "  <thead>\n",
       "    <tr style=\"text-align: right;\">\n",
       "      <th></th>\n",
       "      <th>agua / mL</th>\n",
       "      <th>KMnO4 / mL</th>\n",
       "    </tr>\n",
       "  </thead>\n",
       "  <tbody>\n",
       "    <tr>\n",
       "      <th>count</th>\n",
       "      <td>18.000000</td>\n",
       "      <td>18.000000</td>\n",
       "    </tr>\n",
       "    <tr>\n",
       "      <th>mean</th>\n",
       "      <td>16.054444</td>\n",
       "      <td>22.411111</td>\n",
       "    </tr>\n",
       "    <tr>\n",
       "      <th>std</th>\n",
       "      <td>0.064281</td>\n",
       "      <td>0.038789</td>\n",
       "    </tr>\n",
       "    <tr>\n",
       "      <th>min</th>\n",
       "      <td>15.980000</td>\n",
       "      <td>22.350000</td>\n",
       "    </tr>\n",
       "    <tr>\n",
       "      <th>25%</th>\n",
       "      <td>16.000000</td>\n",
       "      <td>22.392500</td>\n",
       "    </tr>\n",
       "    <tr>\n",
       "      <th>50%</th>\n",
       "      <td>16.025000</td>\n",
       "      <td>22.400000</td>\n",
       "    </tr>\n",
       "    <tr>\n",
       "      <th>75%</th>\n",
       "      <td>16.100000</td>\n",
       "      <td>22.417500</td>\n",
       "    </tr>\n",
       "    <tr>\n",
       "      <th>max</th>\n",
       "      <td>16.180000</td>\n",
       "      <td>22.500000</td>\n",
       "    </tr>\n",
       "  </tbody>\n",
       "</table>\n",
       "</div>"
      ],
      "text/plain": [
       "       agua / mL  KMnO4 / mL\n",
       "count  18.000000   18.000000\n",
       "mean   16.054444   22.411111\n",
       "std     0.064281    0.038789\n",
       "min    15.980000   22.350000\n",
       "25%    16.000000   22.392500\n",
       "50%    16.025000   22.400000\n",
       "75%    16.100000   22.417500\n",
       "max    16.180000   22.500000"
      ]
     },
     "execution_count": 4,
     "metadata": {},
     "output_type": "execute_result"
    }
   ],
   "source": [
    "desc_table = df.describe()\n",
    "desc_table"
   ]
  },
  {
   "cell_type": "markdown",
   "metadata": {},
   "source": [
    "## Tabela com IQR\n",
    "\n",
    "Vamos criar uma linha para o intervalo interquartil (*interquartile range* - IQR em inglês) na tabela de descrição de dados. O IQR é o intervalo onde se concentra parte significativa dos dados e sua largura dá uma indicação da dispersão desses valores centrais."
   ]
  },
  {
   "cell_type": "code",
   "execution_count": 5,
   "metadata": {
    "ExecuteTime": {
     "end_time": "2020-01-16T16:26:53.522569Z",
     "start_time": "2020-01-16T16:26:53.311979Z"
    }
   },
   "outputs": [
    {
     "data": {
      "text/html": [
       "<div>\n",
       "<style scoped>\n",
       "    .dataframe tbody tr th:only-of-type {\n",
       "        vertical-align: middle;\n",
       "    }\n",
       "\n",
       "    .dataframe tbody tr th {\n",
       "        vertical-align: top;\n",
       "    }\n",
       "\n",
       "    .dataframe thead th {\n",
       "        text-align: right;\n",
       "    }\n",
       "</style>\n",
       "<table border=\"1\" class=\"dataframe\">\n",
       "  <thead>\n",
       "    <tr style=\"text-align: right;\">\n",
       "      <th></th>\n",
       "      <th>agua / mL</th>\n",
       "      <th>KMnO4 / mL</th>\n",
       "    </tr>\n",
       "  </thead>\n",
       "  <tbody>\n",
       "    <tr>\n",
       "      <th>count</th>\n",
       "      <td>18.000000</td>\n",
       "      <td>18.000000</td>\n",
       "    </tr>\n",
       "    <tr>\n",
       "      <th>mean</th>\n",
       "      <td>16.054444</td>\n",
       "      <td>22.411111</td>\n",
       "    </tr>\n",
       "    <tr>\n",
       "      <th>std</th>\n",
       "      <td>0.064281</td>\n",
       "      <td>0.038789</td>\n",
       "    </tr>\n",
       "    <tr>\n",
       "      <th>min</th>\n",
       "      <td>15.980000</td>\n",
       "      <td>22.350000</td>\n",
       "    </tr>\n",
       "    <tr>\n",
       "      <th>25%</th>\n",
       "      <td>16.000000</td>\n",
       "      <td>22.392500</td>\n",
       "    </tr>\n",
       "    <tr>\n",
       "      <th>50%</th>\n",
       "      <td>16.025000</td>\n",
       "      <td>22.400000</td>\n",
       "    </tr>\n",
       "    <tr>\n",
       "      <th>75%</th>\n",
       "      <td>16.100000</td>\n",
       "      <td>22.417500</td>\n",
       "    </tr>\n",
       "    <tr>\n",
       "      <th>max</th>\n",
       "      <td>16.180000</td>\n",
       "      <td>22.500000</td>\n",
       "    </tr>\n",
       "    <tr>\n",
       "      <th>IQR</th>\n",
       "      <td>0.100000</td>\n",
       "      <td>0.025000</td>\n",
       "    </tr>\n",
       "  </tbody>\n",
       "</table>\n",
       "</div>"
      ],
      "text/plain": [
       "       agua / mL  KMnO4 / mL\n",
       "count  18.000000   18.000000\n",
       "mean   16.054444   22.411111\n",
       "std     0.064281    0.038789\n",
       "min    15.980000   22.350000\n",
       "25%    16.000000   22.392500\n",
       "50%    16.025000   22.400000\n",
       "75%    16.100000   22.417500\n",
       "max    16.180000   22.500000\n",
       "IQR     0.100000    0.025000"
      ]
     },
     "execution_count": 5,
     "metadata": {},
     "output_type": "execute_result"
    }
   ],
   "source": [
    "desc_table.loc['IQR'] = desc_table.loc['75%'] - desc_table.loc['25%']\n",
    "desc_table"
   ]
  },
  {
   "cell_type": "markdown",
   "metadata": {},
   "source": [
    "Há um maior *range* de valores para as leituras de água, talvez *bins* mais largos no histograma sejam melhores para visualizar. Isso será testado a seguir."
   ]
  },
  {
   "cell_type": "markdown",
   "metadata": {},
   "source": [
    "## Tabelas de frequências"
   ]
  },
  {
   "cell_type": "markdown",
   "metadata": {},
   "source": [
    "Vamos criar tabelas de fequências para ter uma ideia melhor de qual a largura de _bins_ mais adequada para cada histograma."
   ]
  },
  {
   "cell_type": "markdown",
   "metadata": {},
   "source": [
    "### Água"
   ]
  },
  {
   "cell_type": "markdown",
   "metadata": {},
   "source": [
    "Vamos obter os valores mínimos e máximos de leitura."
   ]
  },
  {
   "cell_type": "code",
   "execution_count": 6,
   "metadata": {
    "ExecuteTime": {
     "end_time": "2020-01-16T16:26:53.706945Z",
     "start_time": "2020-01-16T16:26:53.526084Z"
    }
   },
   "outputs": [],
   "source": [
    "min_water = df['agua / mL'].min()\n",
    "max_water = df['agua / mL'].max()"
   ]
  },
  {
   "cell_type": "markdown",
   "metadata": {},
   "source": [
    "Testando intervalo de *bins* de 0.05"
   ]
  },
  {
   "cell_type": "code",
   "execution_count": 7,
   "metadata": {
    "ExecuteTime": {
     "end_time": "2020-01-16T16:26:53.963400Z",
     "start_time": "2020-01-16T16:26:53.711276Z"
    }
   },
   "outputs": [
    {
     "data": {
      "text/html": [
       "<div>\n",
       "<style scoped>\n",
       "    .dataframe tbody tr th:only-of-type {\n",
       "        vertical-align: middle;\n",
       "    }\n",
       "\n",
       "    .dataframe tbody tr th {\n",
       "        vertical-align: top;\n",
       "    }\n",
       "\n",
       "    .dataframe thead th {\n",
       "        text-align: right;\n",
       "    }\n",
       "</style>\n",
       "<table border=\"1\" class=\"dataframe\">\n",
       "  <thead>\n",
       "    <tr style=\"text-align: right;\">\n",
       "      <th></th>\n",
       "      <th>Count</th>\n",
       "      <th>Count / %</th>\n",
       "      <th>Cumulative count</th>\n",
       "      <th>Cumulative count / %</th>\n",
       "    </tr>\n",
       "    <tr>\n",
       "      <th>Bins</th>\n",
       "      <th></th>\n",
       "      <th></th>\n",
       "      <th></th>\n",
       "      <th></th>\n",
       "    </tr>\n",
       "  </thead>\n",
       "  <tbody>\n",
       "    <tr>\n",
       "      <th>[15.98, 16.03)</th>\n",
       "      <td>9</td>\n",
       "      <td>50.00</td>\n",
       "      <td>9</td>\n",
       "      <td>50.00</td>\n",
       "    </tr>\n",
       "    <tr>\n",
       "      <th>[16.03, 16.08)</th>\n",
       "      <td>1</td>\n",
       "      <td>5.56</td>\n",
       "      <td>10</td>\n",
       "      <td>55.56</td>\n",
       "    </tr>\n",
       "    <tr>\n",
       "      <th>[16.08, 16.13)</th>\n",
       "      <td>6</td>\n",
       "      <td>33.33</td>\n",
       "      <td>16</td>\n",
       "      <td>88.89</td>\n",
       "    </tr>\n",
       "    <tr>\n",
       "      <th>[16.13, 16.18)</th>\n",
       "      <td>2</td>\n",
       "      <td>11.11</td>\n",
       "      <td>18</td>\n",
       "      <td>100.00</td>\n",
       "    </tr>\n",
       "  </tbody>\n",
       "</table>\n",
       "</div>"
      ],
      "text/plain": [
       "                Count  Count / %  Cumulative count  Cumulative count / %\n",
       "Bins                                                                    \n",
       "[15.98, 16.03)      9      50.00                 9                 50.00\n",
       "[16.03, 16.08)      1       5.56                10                 55.56\n",
       "[16.08, 16.13)      6      33.33                16                 88.89\n",
       "[16.13, 16.18)      2      11.11                18                100.00"
      ]
     },
     "execution_count": 7,
     "metadata": {},
     "output_type": "execute_result"
    }
   ],
   "source": [
    "bins_tab = statistics.freq_table(df['agua / mL'], min_water, max_water + 0.01, 0.05)\n",
    "bins_tab"
   ]
  },
  {
   "cell_type": "markdown",
   "metadata": {},
   "source": [
    "O ideal é que a escala de _bis_, nesse caso, seja de múltiplos de 5, para facilitar a leitrua e o entendimento. Modificando os valores de início e de fim:"
   ]
  },
  {
   "cell_type": "code",
   "execution_count": 8,
   "metadata": {
    "ExecuteTime": {
     "end_time": "2020-01-16T16:26:54.152731Z",
     "start_time": "2020-01-16T16:26:53.966230Z"
    }
   },
   "outputs": [
    {
     "data": {
      "text/html": [
       "<div>\n",
       "<style scoped>\n",
       "    .dataframe tbody tr th:only-of-type {\n",
       "        vertical-align: middle;\n",
       "    }\n",
       "\n",
       "    .dataframe tbody tr th {\n",
       "        vertical-align: top;\n",
       "    }\n",
       "\n",
       "    .dataframe thead th {\n",
       "        text-align: right;\n",
       "    }\n",
       "</style>\n",
       "<table border=\"1\" class=\"dataframe\">\n",
       "  <thead>\n",
       "    <tr style=\"text-align: right;\">\n",
       "      <th></th>\n",
       "      <th>Count</th>\n",
       "      <th>Count / %</th>\n",
       "      <th>Cumulative count</th>\n",
       "      <th>Cumulative count / %</th>\n",
       "    </tr>\n",
       "    <tr>\n",
       "      <th>Bins</th>\n",
       "      <th></th>\n",
       "      <th></th>\n",
       "      <th></th>\n",
       "      <th></th>\n",
       "    </tr>\n",
       "  </thead>\n",
       "  <tbody>\n",
       "    <tr>\n",
       "      <th>[15.95, 16.0)</th>\n",
       "      <td>1</td>\n",
       "      <td>5.56</td>\n",
       "      <td>1</td>\n",
       "      <td>5.56</td>\n",
       "    </tr>\n",
       "    <tr>\n",
       "      <th>[16.0, 16.05)</th>\n",
       "      <td>8</td>\n",
       "      <td>44.44</td>\n",
       "      <td>9</td>\n",
       "      <td>50.00</td>\n",
       "    </tr>\n",
       "    <tr>\n",
       "      <th>[16.05, 16.1)</th>\n",
       "      <td>3</td>\n",
       "      <td>16.67</td>\n",
       "      <td>12</td>\n",
       "      <td>66.67</td>\n",
       "    </tr>\n",
       "    <tr>\n",
       "      <th>[16.1, 16.15)</th>\n",
       "      <td>4</td>\n",
       "      <td>22.22</td>\n",
       "      <td>16</td>\n",
       "      <td>88.89</td>\n",
       "    </tr>\n",
       "    <tr>\n",
       "      <th>[16.15, 16.2)</th>\n",
       "      <td>2</td>\n",
       "      <td>11.11</td>\n",
       "      <td>18</td>\n",
       "      <td>100.00</td>\n",
       "    </tr>\n",
       "  </tbody>\n",
       "</table>\n",
       "</div>"
      ],
      "text/plain": [
       "               Count  Count / %  Cumulative count  Cumulative count / %\n",
       "Bins                                                                   \n",
       "[15.95, 16.0)      1       5.56                 1                  5.56\n",
       "[16.0, 16.05)      8      44.44                 9                 50.00\n",
       "[16.05, 16.1)      3      16.67                12                 66.67\n",
       "[16.1, 16.15)      4      22.22                16                 88.89\n",
       "[16.15, 16.2)      2      11.11                18                100.00"
      ]
     },
     "execution_count": 8,
     "metadata": {},
     "output_type": "execute_result"
    }
   ],
   "source": [
    "bins_tab = statistics.freq_table(df['agua / mL'], min_water - 0.03, max_water + 0.03, 0.05)\n",
    "bins_tab"
   ]
  },
  {
   "cell_type": "markdown",
   "metadata": {},
   "source": [
    "Testando intervalo de *bins* de 0.02"
   ]
  },
  {
   "cell_type": "code",
   "execution_count": 9,
   "metadata": {
    "ExecuteTime": {
     "end_time": "2020-01-16T16:26:54.397627Z",
     "start_time": "2020-01-16T16:26:54.154257Z"
    }
   },
   "outputs": [
    {
     "data": {
      "text/html": [
       "<div>\n",
       "<style scoped>\n",
       "    .dataframe tbody tr th:only-of-type {\n",
       "        vertical-align: middle;\n",
       "    }\n",
       "\n",
       "    .dataframe tbody tr th {\n",
       "        vertical-align: top;\n",
       "    }\n",
       "\n",
       "    .dataframe thead th {\n",
       "        text-align: right;\n",
       "    }\n",
       "</style>\n",
       "<table border=\"1\" class=\"dataframe\">\n",
       "  <thead>\n",
       "    <tr style=\"text-align: right;\">\n",
       "      <th></th>\n",
       "      <th>Count</th>\n",
       "      <th>Count / %</th>\n",
       "      <th>Cumulative count</th>\n",
       "      <th>Cumulative count / %</th>\n",
       "    </tr>\n",
       "    <tr>\n",
       "      <th>Bins</th>\n",
       "      <th></th>\n",
       "      <th></th>\n",
       "      <th></th>\n",
       "      <th></th>\n",
       "    </tr>\n",
       "  </thead>\n",
       "  <tbody>\n",
       "    <tr>\n",
       "      <th>[15.98, 16.0)</th>\n",
       "      <td>1</td>\n",
       "      <td>5.56</td>\n",
       "      <td>1</td>\n",
       "      <td>5.56</td>\n",
       "    </tr>\n",
       "    <tr>\n",
       "      <th>[16.0, 16.02)</th>\n",
       "      <td>8</td>\n",
       "      <td>44.44</td>\n",
       "      <td>9</td>\n",
       "      <td>50.00</td>\n",
       "    </tr>\n",
       "    <tr>\n",
       "      <th>[16.02, 16.04)</th>\n",
       "      <td>0</td>\n",
       "      <td>0.00</td>\n",
       "      <td>9</td>\n",
       "      <td>50.00</td>\n",
       "    </tr>\n",
       "    <tr>\n",
       "      <th>[16.04, 16.06)</th>\n",
       "      <td>1</td>\n",
       "      <td>5.56</td>\n",
       "      <td>10</td>\n",
       "      <td>55.56</td>\n",
       "    </tr>\n",
       "    <tr>\n",
       "      <th>[16.06, 16.08)</th>\n",
       "      <td>0</td>\n",
       "      <td>0.00</td>\n",
       "      <td>10</td>\n",
       "      <td>55.56</td>\n",
       "    </tr>\n",
       "    <tr>\n",
       "      <th>[16.08, 16.1)</th>\n",
       "      <td>2</td>\n",
       "      <td>11.11</td>\n",
       "      <td>12</td>\n",
       "      <td>66.67</td>\n",
       "    </tr>\n",
       "    <tr>\n",
       "      <th>[16.1, 16.12)</th>\n",
       "      <td>3</td>\n",
       "      <td>16.67</td>\n",
       "      <td>15</td>\n",
       "      <td>83.34</td>\n",
       "    </tr>\n",
       "    <tr>\n",
       "      <th>[16.12, 16.14)</th>\n",
       "      <td>1</td>\n",
       "      <td>5.56</td>\n",
       "      <td>16</td>\n",
       "      <td>88.90</td>\n",
       "    </tr>\n",
       "    <tr>\n",
       "      <th>[16.14, 16.16)</th>\n",
       "      <td>0</td>\n",
       "      <td>0.00</td>\n",
       "      <td>16</td>\n",
       "      <td>88.90</td>\n",
       "    </tr>\n",
       "    <tr>\n",
       "      <th>[16.16, 16.18)</th>\n",
       "      <td>1</td>\n",
       "      <td>5.56</td>\n",
       "      <td>17</td>\n",
       "      <td>94.46</td>\n",
       "    </tr>\n",
       "    <tr>\n",
       "      <th>[16.18, 16.2)</th>\n",
       "      <td>1</td>\n",
       "      <td>5.56</td>\n",
       "      <td>18</td>\n",
       "      <td>100.02</td>\n",
       "    </tr>\n",
       "  </tbody>\n",
       "</table>\n",
       "</div>"
      ],
      "text/plain": [
       "                Count  Count / %  Cumulative count  Cumulative count / %\n",
       "Bins                                                                    \n",
       "[15.98, 16.0)       1       5.56                 1                  5.56\n",
       "[16.0, 16.02)       8      44.44                 9                 50.00\n",
       "[16.02, 16.04)      0       0.00                 9                 50.00\n",
       "[16.04, 16.06)      1       5.56                10                 55.56\n",
       "[16.06, 16.08)      0       0.00                10                 55.56\n",
       "[16.08, 16.1)       2      11.11                12                 66.67\n",
       "[16.1, 16.12)       3      16.67                15                 83.34\n",
       "[16.12, 16.14)      1       5.56                16                 88.90\n",
       "[16.14, 16.16)      0       0.00                16                 88.90\n",
       "[16.16, 16.18)      1       5.56                17                 94.46\n",
       "[16.18, 16.2)       1       5.56                18                100.02"
      ]
     },
     "execution_count": 9,
     "metadata": {},
     "output_type": "execute_result"
    }
   ],
   "source": [
    "bins_tab = statistics.freq_table(df['agua / mL'], min_water, max_water + 0.03, 0.02)\n",
    "bins_tab"
   ]
  },
  {
   "cell_type": "markdown",
   "metadata": {},
   "source": [
    "Um intervalo de _bins_ menor permite um maior detalhamento dos dados, mas talvez não gere um histograma que seja adequado para visualização pois há intervalos sem dados. Mais abaixo serão construídos os dois histogramas.\n",
    "\n",
    "Mais detalhes sobre _bins_ e suas larguras podem ser lidos [aqui](https://en.wikipedia.org/wiki/Histogram#Number_of_bins_and_width)."
   ]
  },
  {
   "cell_type": "markdown",
   "metadata": {},
   "source": [
    "### $KMnO_4$"
   ]
  },
  {
   "cell_type": "markdown",
   "metadata": {},
   "source": [
    "Vamos obter os valores mínimos e máximos de leitura."
   ]
  },
  {
   "cell_type": "code",
   "execution_count": 10,
   "metadata": {
    "ExecuteTime": {
     "end_time": "2020-01-16T16:26:54.568441Z",
     "start_time": "2020-01-16T16:26:54.399485Z"
    }
   },
   "outputs": [],
   "source": [
    "min_perm = df['KMnO4 / mL'].min()\n",
    "max_perm = df['KMnO4 / mL'].max()"
   ]
  },
  {
   "cell_type": "markdown",
   "metadata": {
    "ExecuteTime": {
     "end_time": "2019-11-02T13:41:58.895431Z",
     "start_time": "2019-11-02T13:41:58.892096Z"
    }
   },
   "source": [
    "Testando intervalo de *bins* de 0.02"
   ]
  },
  {
   "cell_type": "code",
   "execution_count": 11,
   "metadata": {
    "ExecuteTime": {
     "end_time": "2020-01-16T16:26:54.824449Z",
     "start_time": "2020-01-16T16:26:54.572450Z"
    }
   },
   "outputs": [
    {
     "data": {
      "text/html": [
       "<div>\n",
       "<style scoped>\n",
       "    .dataframe tbody tr th:only-of-type {\n",
       "        vertical-align: middle;\n",
       "    }\n",
       "\n",
       "    .dataframe tbody tr th {\n",
       "        vertical-align: top;\n",
       "    }\n",
       "\n",
       "    .dataframe thead th {\n",
       "        text-align: right;\n",
       "    }\n",
       "</style>\n",
       "<table border=\"1\" class=\"dataframe\">\n",
       "  <thead>\n",
       "    <tr style=\"text-align: right;\">\n",
       "      <th></th>\n",
       "      <th>Count</th>\n",
       "      <th>Count / %</th>\n",
       "      <th>Cumulative count</th>\n",
       "      <th>Cumulative count / %</th>\n",
       "    </tr>\n",
       "    <tr>\n",
       "      <th>Bins</th>\n",
       "      <th></th>\n",
       "      <th></th>\n",
       "      <th></th>\n",
       "      <th></th>\n",
       "    </tr>\n",
       "  </thead>\n",
       "  <tbody>\n",
       "    <tr>\n",
       "      <th>[22.35, 22.37)</th>\n",
       "      <td>1</td>\n",
       "      <td>5.56</td>\n",
       "      <td>1</td>\n",
       "      <td>5.56</td>\n",
       "    </tr>\n",
       "    <tr>\n",
       "      <th>[22.37, 22.39)</th>\n",
       "      <td>3</td>\n",
       "      <td>16.67</td>\n",
       "      <td>4</td>\n",
       "      <td>22.23</td>\n",
       "    </tr>\n",
       "    <tr>\n",
       "      <th>[22.39, 22.41)</th>\n",
       "      <td>7</td>\n",
       "      <td>38.89</td>\n",
       "      <td>11</td>\n",
       "      <td>61.12</td>\n",
       "    </tr>\n",
       "    <tr>\n",
       "      <th>[22.41, 22.43)</th>\n",
       "      <td>3</td>\n",
       "      <td>16.67</td>\n",
       "      <td>14</td>\n",
       "      <td>77.79</td>\n",
       "    </tr>\n",
       "    <tr>\n",
       "      <th>[22.43, 22.45)</th>\n",
       "      <td>1</td>\n",
       "      <td>5.56</td>\n",
       "      <td>15</td>\n",
       "      <td>83.35</td>\n",
       "    </tr>\n",
       "    <tr>\n",
       "      <th>[22.45, 22.47)</th>\n",
       "      <td>1</td>\n",
       "      <td>5.56</td>\n",
       "      <td>16</td>\n",
       "      <td>88.91</td>\n",
       "    </tr>\n",
       "    <tr>\n",
       "      <th>[22.47, 22.49)</th>\n",
       "      <td>0</td>\n",
       "      <td>0.00</td>\n",
       "      <td>16</td>\n",
       "      <td>88.91</td>\n",
       "    </tr>\n",
       "    <tr>\n",
       "      <th>[22.49, 22.51)</th>\n",
       "      <td>2</td>\n",
       "      <td>11.11</td>\n",
       "      <td>18</td>\n",
       "      <td>100.02</td>\n",
       "    </tr>\n",
       "  </tbody>\n",
       "</table>\n",
       "</div>"
      ],
      "text/plain": [
       "                Count  Count / %  Cumulative count  Cumulative count / %\n",
       "Bins                                                                    \n",
       "[22.35, 22.37)      1       5.56                 1                  5.56\n",
       "[22.37, 22.39)      3      16.67                 4                 22.23\n",
       "[22.39, 22.41)      7      38.89                11                 61.12\n",
       "[22.41, 22.43)      3      16.67                14                 77.79\n",
       "[22.43, 22.45)      1       5.56                15                 83.35\n",
       "[22.45, 22.47)      1       5.56                16                 88.91\n",
       "[22.47, 22.49)      0       0.00                16                 88.91\n",
       "[22.49, 22.51)      2      11.11                18                100.02"
      ]
     },
     "execution_count": 11,
     "metadata": {},
     "output_type": "execute_result"
    }
   ],
   "source": [
    "bins_tab = statistics.freq_table(df['KMnO4 / mL'], min_perm, max_perm + 0.01, 0.02)\n",
    "bins_tab"
   ]
  },
  {
   "cell_type": "markdown",
   "metadata": {},
   "source": [
    "O ideal é que a escala, nesse caso, seja de múltiplos de 2, para facilitar o entendimento. Modificando os valores de início e de fim:"
   ]
  },
  {
   "cell_type": "code",
   "execution_count": 12,
   "metadata": {
    "ExecuteTime": {
     "end_time": "2020-01-16T16:26:55.069560Z",
     "start_time": "2020-01-16T16:26:54.825851Z"
    }
   },
   "outputs": [
    {
     "data": {
      "text/html": [
       "<div>\n",
       "<style scoped>\n",
       "    .dataframe tbody tr th:only-of-type {\n",
       "        vertical-align: middle;\n",
       "    }\n",
       "\n",
       "    .dataframe tbody tr th {\n",
       "        vertical-align: top;\n",
       "    }\n",
       "\n",
       "    .dataframe thead th {\n",
       "        text-align: right;\n",
       "    }\n",
       "</style>\n",
       "<table border=\"1\" class=\"dataframe\">\n",
       "  <thead>\n",
       "    <tr style=\"text-align: right;\">\n",
       "      <th></th>\n",
       "      <th>Count</th>\n",
       "      <th>Count / %</th>\n",
       "      <th>Cumulative count</th>\n",
       "      <th>Cumulative count / %</th>\n",
       "    </tr>\n",
       "    <tr>\n",
       "      <th>Bins</th>\n",
       "      <th></th>\n",
       "      <th></th>\n",
       "      <th></th>\n",
       "      <th></th>\n",
       "    </tr>\n",
       "  </thead>\n",
       "  <tbody>\n",
       "    <tr>\n",
       "      <th>[22.34, 22.36)</th>\n",
       "      <td>1</td>\n",
       "      <td>5.56</td>\n",
       "      <td>1</td>\n",
       "      <td>5.56</td>\n",
       "    </tr>\n",
       "    <tr>\n",
       "      <th>[22.36, 22.38)</th>\n",
       "      <td>0</td>\n",
       "      <td>0.00</td>\n",
       "      <td>1</td>\n",
       "      <td>5.56</td>\n",
       "    </tr>\n",
       "    <tr>\n",
       "      <th>[22.38, 22.4)</th>\n",
       "      <td>4</td>\n",
       "      <td>22.22</td>\n",
       "      <td>5</td>\n",
       "      <td>27.78</td>\n",
       "    </tr>\n",
       "    <tr>\n",
       "      <th>[22.4, 22.42)</th>\n",
       "      <td>8</td>\n",
       "      <td>44.44</td>\n",
       "      <td>13</td>\n",
       "      <td>72.22</td>\n",
       "    </tr>\n",
       "    <tr>\n",
       "      <th>[22.42, 22.44)</th>\n",
       "      <td>2</td>\n",
       "      <td>11.11</td>\n",
       "      <td>15</td>\n",
       "      <td>83.33</td>\n",
       "    </tr>\n",
       "    <tr>\n",
       "      <th>[22.44, 22.46)</th>\n",
       "      <td>1</td>\n",
       "      <td>5.56</td>\n",
       "      <td>16</td>\n",
       "      <td>88.89</td>\n",
       "    </tr>\n",
       "    <tr>\n",
       "      <th>[22.46, 22.48)</th>\n",
       "      <td>0</td>\n",
       "      <td>0.00</td>\n",
       "      <td>16</td>\n",
       "      <td>88.89</td>\n",
       "    </tr>\n",
       "    <tr>\n",
       "      <th>[22.48, 22.5)</th>\n",
       "      <td>0</td>\n",
       "      <td>0.00</td>\n",
       "      <td>16</td>\n",
       "      <td>88.89</td>\n",
       "    </tr>\n",
       "    <tr>\n",
       "      <th>[22.5, 22.52)</th>\n",
       "      <td>2</td>\n",
       "      <td>11.11</td>\n",
       "      <td>18</td>\n",
       "      <td>100.00</td>\n",
       "    </tr>\n",
       "  </tbody>\n",
       "</table>\n",
       "</div>"
      ],
      "text/plain": [
       "                Count  Count / %  Cumulative count  Cumulative count / %\n",
       "Bins                                                                    \n",
       "[22.34, 22.36)      1       5.56                 1                  5.56\n",
       "[22.36, 22.38)      0       0.00                 1                  5.56\n",
       "[22.38, 22.4)       4      22.22                 5                 27.78\n",
       "[22.4, 22.42)       8      44.44                13                 72.22\n",
       "[22.42, 22.44)      2      11.11                15                 83.33\n",
       "[22.44, 22.46)      1       5.56                16                 88.89\n",
       "[22.46, 22.48)      0       0.00                16                 88.89\n",
       "[22.48, 22.5)       0       0.00                16                 88.89\n",
       "[22.5, 22.52)       2      11.11                18                100.00"
      ]
     },
     "execution_count": 12,
     "metadata": {},
     "output_type": "execute_result"
    }
   ],
   "source": [
    "bins_tab = statistics.freq_table(df['KMnO4 / mL'], min_perm - 0.01, max_perm + 0.03, 0.02)\n",
    "bins_tab"
   ]
  },
  {
   "cell_type": "markdown",
   "metadata": {},
   "source": [
    "Testando intervalo de *bins* de 0.05"
   ]
  },
  {
   "cell_type": "code",
   "execution_count": 13,
   "metadata": {
    "ExecuteTime": {
     "end_time": "2020-01-16T16:26:55.303195Z",
     "start_time": "2020-01-16T16:26:55.070878Z"
    }
   },
   "outputs": [
    {
     "data": {
      "text/html": [
       "<div>\n",
       "<style scoped>\n",
       "    .dataframe tbody tr th:only-of-type {\n",
       "        vertical-align: middle;\n",
       "    }\n",
       "\n",
       "    .dataframe tbody tr th {\n",
       "        vertical-align: top;\n",
       "    }\n",
       "\n",
       "    .dataframe thead th {\n",
       "        text-align: right;\n",
       "    }\n",
       "</style>\n",
       "<table border=\"1\" class=\"dataframe\">\n",
       "  <thead>\n",
       "    <tr style=\"text-align: right;\">\n",
       "      <th></th>\n",
       "      <th>Count</th>\n",
       "      <th>Count / %</th>\n",
       "      <th>Cumulative count</th>\n",
       "      <th>Cumulative count / %</th>\n",
       "    </tr>\n",
       "    <tr>\n",
       "      <th>Bins</th>\n",
       "      <th></th>\n",
       "      <th></th>\n",
       "      <th></th>\n",
       "      <th></th>\n",
       "    </tr>\n",
       "  </thead>\n",
       "  <tbody>\n",
       "    <tr>\n",
       "      <th>[22.35, 22.4)</th>\n",
       "      <td>11</td>\n",
       "      <td>61.11</td>\n",
       "      <td>11</td>\n",
       "      <td>61.11</td>\n",
       "    </tr>\n",
       "    <tr>\n",
       "      <th>[22.4, 22.45)</th>\n",
       "      <td>5</td>\n",
       "      <td>27.78</td>\n",
       "      <td>16</td>\n",
       "      <td>88.89</td>\n",
       "    </tr>\n",
       "    <tr>\n",
       "      <th>[22.45, 22.5)</th>\n",
       "      <td>2</td>\n",
       "      <td>11.11</td>\n",
       "      <td>18</td>\n",
       "      <td>100.00</td>\n",
       "    </tr>\n",
       "  </tbody>\n",
       "</table>\n",
       "</div>"
      ],
      "text/plain": [
       "               Count  Count / %  Cumulative count  Cumulative count / %\n",
       "Bins                                                                   \n",
       "[22.35, 22.4)     11      61.11                11                 61.11\n",
       "[22.4, 22.45)      5      27.78                16                 88.89\n",
       "[22.45, 22.5)      2      11.11                18                100.00"
      ]
     },
     "execution_count": 13,
     "metadata": {},
     "output_type": "execute_result"
    }
   ],
   "source": [
    "bins_tab = statistics.freq_table(df['KMnO4 / mL'], min_perm, max_perm + 0.01, 0.05)\n",
    "bins_tab"
   ]
  },
  {
   "cell_type": "markdown",
   "metadata": {},
   "source": [
    "Repare que com intervalo de 0.05 os dados estão muito agrupados em apenas três intervalos, não dando uma real dimensão da dispersão de valores."
   ]
  },
  {
   "cell_type": "markdown",
   "metadata": {
    "ExecuteTime": {
     "end_time": "2019-03-25T02:21:54.696145Z",
     "start_time": "2019-03-25T02:21:54.694321Z"
    }
   },
   "source": [
    "# Plots"
   ]
  },
  {
   "cell_type": "markdown",
   "metadata": {},
   "source": [
    "Para os gráficos, inicialmente criamos uma figura com dois sistemas de eixo, um acima do outro e compartilhando o mesmo eixo horizontal. Assim, passamos esses eixos para a função de histograma e de boxplot e os gráficos irão compartilhar os mesmos valores e serão apresentados um acima do outro."
   ]
  },
  {
   "cell_type": "markdown",
   "metadata": {},
   "source": [
    "## Água"
   ]
  },
  {
   "cell_type": "markdown",
   "metadata": {},
   "source": [
    "Testando com intervalo de bins 0.05."
   ]
  },
  {
   "cell_type": "code",
   "execution_count": 14,
   "metadata": {
    "ExecuteTime": {
     "end_time": "2020-01-16T16:26:55.838705Z",
     "start_time": "2020-01-16T16:26:55.305189Z"
    },
    "code_folding": []
   },
   "outputs": [
    {
     "data": {
      "image/png": "[encoded data removed]",
      "text/plain": [
       "<Figure size 864x576 with 2 Axes>"
      ]
     },
     "metadata": {},
     "output_type": "display_data"
    }
   ],
   "source": [
    "fig1, (ax2, ax1) = plt.subplots(figsize=(12, 8),\n",
    "                                nrows=2,\n",
    "                                sharex=True,\n",
    "                                facecolor=(1, 1, 1),\n",
    "                                gridspec_kw={\n",
    "                                    \"height_ratios\": (.15, .85),\n",
    "                                    'hspace': 0.02\n",
    "                                })\n",
    "\n",
    "statistics.plot_hist(df['agua / mL'], min_water - 0.03, max_water + 0.03, 0.05, ax=ax1)\n",
    "statistics.plot_boxplot(df['agua / mL'], ax=ax2)\n",
    "\n",
    "fig1.subplots_adjust(top=0.90)\n",
    "fig1.suptitle('Análise estatística - Água', fontsize=20)\n",
    "\n",
    "plt.show()"
   ]
  },
  {
   "cell_type": "markdown",
   "metadata": {},
   "source": [
    "Testando com intervalos de bins 0.02"
   ]
  },
  {
   "cell_type": "code",
   "execution_count": 15,
   "metadata": {
    "ExecuteTime": {
     "end_time": "2020-01-16T16:26:56.167869Z",
     "start_time": "2020-01-16T16:26:55.839835Z"
    }
   },
   "outputs": [
    {
     "data": {
      "image/png": "[encoded data removed]",
      "text/plain": [
       "<Figure size 864x576 with 2 Axes>"
      ]
     },
     "metadata": {},
     "output_type": "display_data"
    }
   ],
   "source": [
    "fig2, (ax2, ax1) = plt.subplots(figsize=(12, 8),\n",
    "                                nrows=2,\n",
    "                                sharex=True,\n",
    "                                facecolor=(1, 1, 1),\n",
    "                                gridspec_kw={\n",
    "                                    \"height_ratios\": (.15, .85),\n",
    "                                    'hspace': 0.02\n",
    "                                })\n",
    "\n",
    "statistics.plot_hist(df['agua / mL'], min_water, max_water + 0.01, 0.02, ax=ax1)\n",
    "statistics.plot_boxplot(df['agua / mL'], ax=ax2)\n",
    "\n",
    "fig2.subplots_adjust(top=0.90)\n",
    "fig2.suptitle('Análise estatística - Água', fontsize=20)\n",
    "\n",
    "plt.show()"
   ]
  },
  {
   "cell_type": "markdown",
   "metadata": {},
   "source": [
    "Os histogramas ficam bem distintos, e podemos aproveitar e discutir o efeito da escolha do intervalo de *bins* na interpretação dos dados.\n",
    "\n",
    "Muito embora um menor intervalo permita analisar mais detalhadamente os dados, ele pode dar uma falsa sensação de descontinuidade. No histograma com menor intervalo, percebemos que os dados se concentram no intervalo de entre 16.00 e 16.02, o que não é possível de perceber no de maior intervalo. No entanto, o de maior intervalo apresenta continuidade entre os _bins_ contribuindo para a visualização de que se trata de uma distribuição.\n",
    "\n",
    "Por fim, o de menor intervalo serve também para mostrar que indicadores não necessariamente são valores que realmente foram medidos. Repare que a mediana se encontra numa região onde não foram obtidos valores por medida."
   ]
  },
  {
   "cell_type": "markdown",
   "metadata": {},
   "source": [
    "## $KMnO_4$"
   ]
  },
  {
   "cell_type": "markdown",
   "metadata": {},
   "source": [
    "Testando com intervalo de bins de 0.02"
   ]
  },
  {
   "cell_type": "code",
   "execution_count": 16,
   "metadata": {
    "ExecuteTime": {
     "end_time": "2020-01-16T16:26:56.661678Z",
     "start_time": "2020-01-16T16:26:56.169045Z"
    }
   },
   "outputs": [
    {
     "data": {
      "image/png": "[encoded data removed]",
      "text/plain": [
       "<Figure size 864x576 with 2 Axes>"
      ]
     },
     "metadata": {},
     "output_type": "display_data"
    }
   ],
   "source": [
    "fig3, (ax2, ax1) = plt.subplots(figsize=(12, 8),\n",
    "                                nrows=2,\n",
    "                                sharex=True,\n",
    "                                facecolor=(1, 1, 1),\n",
    "                                gridspec_kw={\n",
    "                                    \"height_ratios\": (.15, .85),\n",
    "                                    'hspace': 0.02\n",
    "                                })\n",
    "\n",
    "statistics.plot_hist(df['KMnO4 / mL'], min_perm - 0.01, max_perm + 0.03, 0.02, ax=ax1, outlier=True)\n",
    "statistics.plot_boxplot(df['KMnO4 / mL'], ax=ax2)\n",
    "\n",
    "fig3.subplots_adjust(top=0.90)\n",
    "fig3.suptitle('Análise estatística - $KMnO_4$', fontsize=20)\n",
    "\n",
    "plt.show()"
   ]
  },
  {
   "cell_type": "markdown",
   "metadata": {},
   "source": [
    "Testando com intervalo de bins de 0.05."
   ]
  },
  {
   "cell_type": "code",
   "execution_count": 17,
   "metadata": {
    "ExecuteTime": {
     "end_time": "2020-01-16T16:26:56.889691Z",
     "start_time": "2020-01-16T16:26:56.662749Z"
    }
   },
   "outputs": [
    {
     "data": {
      "image/png": "[encoded data removed]",
      "text/plain": [
       "<Figure size 864x576 with 2 Axes>"
      ]
     },
     "metadata": {},
     "output_type": "display_data"
    }
   ],
   "source": [
    "fig4, (ax2, ax1) = plt.subplots(figsize=(12, 8),\n",
    "                                nrows=2,\n",
    "                                sharex=True,\n",
    "                                facecolor=(1, 1, 1),\n",
    "                                gridspec_kw={\n",
    "                                    \"height_ratios\": (.15, .85),\n",
    "                                    'hspace': 0.02\n",
    "                                })\n",
    "\n",
    "statistics.plot_hist(df['KMnO4 / mL'], min_perm, max_perm + 0.03, 0.05, ax=ax1, outlier=True)\n",
    "statistics.plot_boxplot(df['KMnO4 / mL'], ax=ax2)\n",
    "\n",
    "fig4.subplots_adjust(top=0.90)\n",
    "fig4.suptitle('Análise estatística - $KMnO_4$', fontsize=20)\n",
    "\n",
    "plt.show()"
   ]
  },
  {
   "cell_type": "markdown",
   "metadata": {},
   "source": [
    "Mais uma vez, há grande diferença entre os gráficos por uma mudança no intervalo de bins. Repare que o histograma com intervalores maiores não fornece muitas informações sobre onde se encontra o intervalo com mais leituras e mesmo sobre os _outliers_. Aqui, claramente o histograma com menor intervalo é mais adequado, mostrando a continuidade de valores dentro dos intervalo do boxplot e a ausência de valores até os _outliers_."
   ]
  },
  {
   "cell_type": "markdown",
   "metadata": {},
   "source": [
    "# Informação sobre as versões dos packages"
   ]
  },
  {
   "cell_type": "code",
   "execution_count": 18,
   "metadata": {
    "ExecuteTime": {
     "end_time": "2020-01-16T16:26:57.025143Z",
     "start_time": "2020-01-16T16:26:56.890798Z"
    }
   },
   "outputs": [
    {
     "data": {
      "application/json": {
       "Software versions": [
        {
         "module": "Python",
         "version": "3.7.3 64bit [GCC 7.3.0]"
        },
        {
         "module": "IPython",
         "version": "7.4.0"
        },
        {
         "module": "OS",
         "version": "Linux 5.0.0 32 generic x86_64 with debian buster sid"
        },
        {
         "module": "pandas",
         "version": "0.24.2"
        },
        {
         "module": "numpy",
         "version": "1.16.2"
        },
        {
         "module": "matplotlib",
         "version": "3.0.3"
        }
       ]
      },
      "text/html": [
       "<table><tr><th>Software</th><th>Version</th></tr><tr><td>Python</td><td>3.7.3 64bit [GCC 7.3.0]</td></tr><tr><td>IPython</td><td>7.4.0</td></tr><tr><td>OS</td><td>Linux 5.0.0 32 generic x86_64 with debian buster sid</td></tr><tr><td>pandas</td><td>0.24.2</td></tr><tr><td>numpy</td><td>1.16.2</td></tr><tr><td>matplotlib</td><td>3.0.3</td></tr><tr><td colspan='2'>Thu Jan 16 13:26:57 2020 -03</td></tr></table>"
      ],
      "text/latex": [
       "\\begin{tabular}{|l|l|}\\hline\n",
       "{\\bf Software} & {\\bf Version} \\\\ \\hline\\hline\n",
       "Python & 3.7.3 64bit [GCC 7.3.0] \\\\ \\hline\n",
       "IPython & 7.4.0 \\\\ \\hline\n",
       "OS & Linux 5.0.0 32 generic x86\\_64 with debian buster sid \\\\ \\hline\n",
       "pandas & 0.24.2 \\\\ \\hline\n",
       "numpy & 1.16.2 \\\\ \\hline\n",
       "matplotlib & 3.0.3 \\\\ \\hline\n",
       "\\hline \\multicolumn{2}{|l|}{Thu Jan 16 13:26:57 2020 -03} \\\\ \\hline\n",
       "\\end{tabular}\n"
      ],
      "text/plain": [
       "Software versions\n",
       "Python 3.7.3 64bit [GCC 7.3.0]\n",
       "IPython 7.4.0\n",
       "OS Linux 5.0.0 32 generic x86_64 with debian buster sid\n",
       "pandas 0.24.2\n",
       "numpy 1.16.2\n",
       "matplotlib 3.0.3\n",
       "Thu Jan 16 13:26:57 2020 -03"
      ]
     },
     "execution_count": 18,
     "metadata": {},
     "output_type": "execute_result"
    }
   ],
   "source": [
    "%load_ext version_information\n",
    "%version_information pandas, numpy, matplotlib"
   ]
  },
  {
   "cell_type": "code",
   "execution_count": null,
   "metadata": {},
   "outputs": [],
   "source": []
  }
 ],
 "metadata": {
  "hide_input": false,
  "kernelspec": {
   "display_name": "Python 3",
   "language": "python",
   "name": "python3"
  },
  "language_info": {
   "codemirror_mode": {
    "name": "ipython",
    "version": 3
   },
   "file_extension": ".py",
   "mimetype": "text/x-python",
   "name": "python",
   "nbconvert_exporter": "python",
   "pygments_lexer": "ipython3",
   "version": "3.7.3"
  },
  "toc": {
   "base_numbering": 1,
   "nav_menu": {
    "height": "215px",
    "width": "325px"
   },
   "number_sections": true,
   "sideBar": true,
   "skip_h1_title": false,
   "title_cell": "Table of Contents",
   "title_sidebar": "Contents",
   "toc_cell": false,
   "toc_position": {
    "height": "calc(100% - 180px)",
    "left": "10px",
    "top": "150px",
    "width": "194.8px"
   },
   "toc_section_display": true,
   "toc_window_display": true
  },
  "varInspector": {
   "cols": {
    "lenName": 16,
    "lenType": 16,
    "lenVar": 40
   },
   "kernels_config": {
    "python": {
     "delete_cmd_postfix": "",
     "delete_cmd_prefix": "del ",
     "library": "var_list.py",
     "varRefreshCmd": "print(var_dic_list())"
    },
    "r": {
     "delete_cmd_postfix": ") ",
     "delete_cmd_prefix": "rm(",
     "library": "var_list.r",
     "varRefreshCmd": "cat(var_dic_list()) "
    }
   },
   "types_to_exclude": [
    "module",
    "function",
    "builtin_function_or_method",
    "instance",
    "_Feature"
   ],
   "window_display": false
  }
 },
 "nbformat": 4,
 "nbformat_minor": 2
}
