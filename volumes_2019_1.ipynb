{
 "cells": [
  {
   "cell_type": "markdown",
   "metadata": {},
   "source": [
    "# Introdução"
   ]
  },
  {
   "cell_type": "markdown",
   "metadata": {},
   "source": [
    "Este arquivo se refere aos dados obtidos pela turma de Química Geral I do curso de Processos\n",
    "Químicos do IFRJ _campus_ Rio de Janeiro, no 1º semestre de 2019, em uma prática de laboratório cujo objetivo era ensinar\n",
    "aos alunos como ler o volume escoado de um dado líquido em buretas e analisar os resultados da turma como um todo, entendendo os motivos que levam a ter leituras distintas.\n",
    "\n",
    "Ao se repetir várias vezes uma medição são encontrados vários resultados diferentes,\n",
    "embora alguns possam coincidir. Ou seja, ao medir várias vezes a mesma grandeza, usando\n",
    "o mesmo instrumento e o mesmo observador é possı́vel que as medidas encontradas sejam\n",
    "diferentes. A isto se chama *dispersão* das medidas.\n",
    "\n",
    "No caso em questão, foram realizadas diversas medidas por diferentes pessoas. As medidas\n",
    "foram de volume escoado em buretas. O líquido da primeira bureta era água e o da segunda\n",
    "era uma solução de permanganato de potássio, que possui uma coloração roxa intensa.\n",
    "\n",
    "O objetivo é demonstrar que, realizando muitas medidas, boa parte irá se concentrar ao redor\n",
    "de uma faixa de valores. Eventualmente, podem surgir valores discrepantes (*outliers*) que\n",
    "podem ser devido a erros de leitura. A forma correta de ler uma escala em uma vidraria \n",
    "como a bureta é manter a escala na altura dos olhos. Em soluções aquosas, a leitura do volume\n",
    "é feita pela parte de baixo do menisco formado pelo líquido. No entanto, quando o líquido\n",
    "é muito escuro, como no caso da solução de permanganto, a visualização do menisco fica dificultada.\n",
    "\n",
    "O erro devido a uma leitura feita acima ou abaixo da linha do menisco do líquido é chamado de\n",
    "**erro de paralaxe** e é exemplificado na figura abaixo. Esse erro é uma possível fonte de\n",
    "*outliers* por ser um erro grosseiro.\n",
    "\n",
    "<img src='images/parallax.png' width=200 height=200>\n",
    "\n",
    "A dispersão nos valores, desconsiderando erros grosseiros, podem ter diversas origens.\n",
    "Como as medidas são feitas por pessoas distintas, a própria acuidade visual da pessoa\n",
    "pode afetar, além de efeitos de iluminação do local, reflexos no caso de usuários de óculos,\n",
    "dentre diversos outros fatores.\n",
    "\n",
    "Tópicos que podem ser discutidos com base nesse experimento:\n",
    "\n",
    "- conceitos de *precisão* e *exatidão*\n",
    "- conceitos de *repetibilidade* e *reprodutibilidade*\n",
    "- tipos de erros (grosseiros, sistemáticos, randômicos)\n",
    "- conceitos básicos de estatística (dispersão, média, mediana, algarismos significativos)\n",
    "- construção e interpretação de histogramas e boxplots\n",
    "    - influência da largura de classes (*bins*) na interpretação de um histograma"
   ]
  },
  {
   "cell_type": "markdown",
   "metadata": {},
   "source": [
    "# Setup"
   ]
  },
  {
   "cell_type": "markdown",
   "metadata": {},
   "source": [
    "Importe as seguintes bibliotecas para que os exemplos e tratamentos dos dados do notebook funcionem."
   ]
  },
  {
   "cell_type": "code",
   "execution_count": 1,
   "metadata": {
    "ExecuteTime": {
     "end_time": "2020-01-16T16:30:54.291639Z",
     "start_time": "2020-01-16T16:30:54.013543Z"
    }
   },
   "outputs": [],
   "source": [
    "import pandas as pd\n",
    "import numpy as np\n",
    "import matplotlib.pyplot as plt"
   ]
  },
  {
   "cell_type": "markdown",
   "metadata": {},
   "source": [
    "A biblioteca a seguir foi criada especialmente para esse trabalho, permitindo uma rápida análise dos dados e geração de gráficos."
   ]
  },
  {
   "cell_type": "code",
   "execution_count": 2,
   "metadata": {
    "ExecuteTime": {
     "end_time": "2020-01-16T16:30:54.430643Z",
     "start_time": "2020-01-16T16:30:54.292782Z"
    }
   },
   "outputs": [],
   "source": [
    "import statistics"
   ]
  },
  {
   "cell_type": "markdown",
   "metadata": {},
   "source": [
    "# Importação dos dados"
   ]
  },
  {
   "cell_type": "code",
   "execution_count": 3,
   "metadata": {
    "ExecuteTime": {
     "end_time": "2020-01-16T16:30:54.875703Z",
     "start_time": "2020-01-16T16:30:54.436406Z"
    }
   },
   "outputs": [
    {
     "data": {
      "text/html": [
       "<div>\n",
       "<style scoped>\n",
       "    .dataframe tbody tr th:only-of-type {\n",
       "        vertical-align: middle;\n",
       "    }\n",
       "\n",
       "    .dataframe tbody tr th {\n",
       "        vertical-align: top;\n",
       "    }\n",
       "\n",
       "    .dataframe thead th {\n",
       "        text-align: right;\n",
       "    }\n",
       "</style>\n",
       "<table border=\"1\" class=\"dataframe\">\n",
       "  <thead>\n",
       "    <tr style=\"text-align: right;\">\n",
       "      <th></th>\n",
       "      <th>agua / mL</th>\n",
       "      <th>KMnO4 / mL</th>\n",
       "    </tr>\n",
       "  </thead>\n",
       "  <tbody>\n",
       "    <tr>\n",
       "      <th>0</th>\n",
       "      <td>14.30</td>\n",
       "      <td>15.00</td>\n",
       "    </tr>\n",
       "    <tr>\n",
       "      <th>1</th>\n",
       "      <td>14.20</td>\n",
       "      <td>14.98</td>\n",
       "    </tr>\n",
       "    <tr>\n",
       "      <th>2</th>\n",
       "      <td>14.20</td>\n",
       "      <td>15.10</td>\n",
       "    </tr>\n",
       "    <tr>\n",
       "      <th>3</th>\n",
       "      <td>14.22</td>\n",
       "      <td>14.95</td>\n",
       "    </tr>\n",
       "    <tr>\n",
       "      <th>4</th>\n",
       "      <td>14.21</td>\n",
       "      <td>15.10</td>\n",
       "    </tr>\n",
       "  </tbody>\n",
       "</table>\n",
       "</div>"
      ],
      "text/plain": [
       "   agua / mL  KMnO4 / mL\n",
       "0      14.30       15.00\n",
       "1      14.20       14.98\n",
       "2      14.20       15.10\n",
       "3      14.22       14.95\n",
       "4      14.21       15.10"
      ]
     },
     "execution_count": 3,
     "metadata": {},
     "output_type": "execute_result"
    }
   ],
   "source": [
    "df = pd.read_csv('dados_brutos/volumes2019_1.csv')\n",
    "df.head()"
   ]
  },
  {
   "cell_type": "markdown",
   "metadata": {},
   "source": [
    "Breve detalhamento dos dados com o método `describe` do `pandas`."
   ]
  },
  {
   "cell_type": "code",
   "execution_count": 4,
   "metadata": {
    "ExecuteTime": {
     "end_time": "2020-01-16T16:30:55.071115Z",
     "start_time": "2020-01-16T16:30:54.879218Z"
    }
   },
   "outputs": [
    {
     "data": {
      "text/html": [
       "<div>\n",
       "<style scoped>\n",
       "    .dataframe tbody tr th:only-of-type {\n",
       "        vertical-align: middle;\n",
       "    }\n",
       "\n",
       "    .dataframe tbody tr th {\n",
       "        vertical-align: top;\n",
       "    }\n",
       "\n",
       "    .dataframe thead th {\n",
       "        text-align: right;\n",
       "    }\n",
       "</style>\n",
       "<table border=\"1\" class=\"dataframe\">\n",
       "  <thead>\n",
       "    <tr style=\"text-align: right;\">\n",
       "      <th></th>\n",
       "      <th>agua / mL</th>\n",
       "      <th>KMnO4 / mL</th>\n",
       "    </tr>\n",
       "  </thead>\n",
       "  <tbody>\n",
       "    <tr>\n",
       "      <th>count</th>\n",
       "      <td>27.000000</td>\n",
       "      <td>27.000000</td>\n",
       "    </tr>\n",
       "    <tr>\n",
       "      <th>mean</th>\n",
       "      <td>14.230000</td>\n",
       "      <td>15.029259</td>\n",
       "    </tr>\n",
       "    <tr>\n",
       "      <th>std</th>\n",
       "      <td>0.050536</td>\n",
       "      <td>0.060886</td>\n",
       "    </tr>\n",
       "    <tr>\n",
       "      <th>min</th>\n",
       "      <td>14.100000</td>\n",
       "      <td>14.950000</td>\n",
       "    </tr>\n",
       "    <tr>\n",
       "      <th>25%</th>\n",
       "      <td>14.210000</td>\n",
       "      <td>15.000000</td>\n",
       "    </tr>\n",
       "    <tr>\n",
       "      <th>50%</th>\n",
       "      <td>14.220000</td>\n",
       "      <td>15.000000</td>\n",
       "    </tr>\n",
       "    <tr>\n",
       "      <th>75%</th>\n",
       "      <td>14.250000</td>\n",
       "      <td>15.100000</td>\n",
       "    </tr>\n",
       "    <tr>\n",
       "      <th>max</th>\n",
       "      <td>14.300000</td>\n",
       "      <td>15.200000</td>\n",
       "    </tr>\n",
       "  </tbody>\n",
       "</table>\n",
       "</div>"
      ],
      "text/plain": [
       "       agua / mL  KMnO4 / mL\n",
       "count  27.000000   27.000000\n",
       "mean   14.230000   15.029259\n",
       "std     0.050536    0.060886\n",
       "min    14.100000   14.950000\n",
       "25%    14.210000   15.000000\n",
       "50%    14.220000   15.000000\n",
       "75%    14.250000   15.100000\n",
       "max    14.300000   15.200000"
      ]
     },
     "execution_count": 4,
     "metadata": {},
     "output_type": "execute_result"
    }
   ],
   "source": [
    "desc_table = df.describe()\n",
    "desc_table"
   ]
  },
  {
   "cell_type": "markdown",
   "metadata": {},
   "source": [
    "## Tabela com IQR\n",
    "\n",
    "Vamos criar uma linha para o intervalo interquartil (*interquartile range* - IQR em inglês) na tabela de descrição de dados. O IQR é o intervalo onde se concentra parte significativa dos dados e sua largura dá uma indicação da dispersão desses valores centrais."
   ]
  },
  {
   "cell_type": "code",
   "execution_count": 5,
   "metadata": {
    "ExecuteTime": {
     "end_time": "2020-01-16T16:30:55.278600Z",
     "start_time": "2020-01-16T16:30:55.073739Z"
    }
   },
   "outputs": [
    {
     "data": {
      "text/html": [
       "<div>\n",
       "<style scoped>\n",
       "    .dataframe tbody tr th:only-of-type {\n",
       "        vertical-align: middle;\n",
       "    }\n",
       "\n",
       "    .dataframe tbody tr th {\n",
       "        vertical-align: top;\n",
       "    }\n",
       "\n",
       "    .dataframe thead th {\n",
       "        text-align: right;\n",
       "    }\n",
       "</style>\n",
       "<table border=\"1\" class=\"dataframe\">\n",
       "  <thead>\n",
       "    <tr style=\"text-align: right;\">\n",
       "      <th></th>\n",
       "      <th>agua / mL</th>\n",
       "      <th>KMnO4 / mL</th>\n",
       "    </tr>\n",
       "  </thead>\n",
       "  <tbody>\n",
       "    <tr>\n",
       "      <th>count</th>\n",
       "      <td>27.000000</td>\n",
       "      <td>27.000000</td>\n",
       "    </tr>\n",
       "    <tr>\n",
       "      <th>mean</th>\n",
       "      <td>14.230000</td>\n",
       "      <td>15.029259</td>\n",
       "    </tr>\n",
       "    <tr>\n",
       "      <th>std</th>\n",
       "      <td>0.050536</td>\n",
       "      <td>0.060886</td>\n",
       "    </tr>\n",
       "    <tr>\n",
       "      <th>min</th>\n",
       "      <td>14.100000</td>\n",
       "      <td>14.950000</td>\n",
       "    </tr>\n",
       "    <tr>\n",
       "      <th>25%</th>\n",
       "      <td>14.210000</td>\n",
       "      <td>15.000000</td>\n",
       "    </tr>\n",
       "    <tr>\n",
       "      <th>50%</th>\n",
       "      <td>14.220000</td>\n",
       "      <td>15.000000</td>\n",
       "    </tr>\n",
       "    <tr>\n",
       "      <th>75%</th>\n",
       "      <td>14.250000</td>\n",
       "      <td>15.100000</td>\n",
       "    </tr>\n",
       "    <tr>\n",
       "      <th>max</th>\n",
       "      <td>14.300000</td>\n",
       "      <td>15.200000</td>\n",
       "    </tr>\n",
       "    <tr>\n",
       "      <th>IQR</th>\n",
       "      <td>0.040000</td>\n",
       "      <td>0.100000</td>\n",
       "    </tr>\n",
       "  </tbody>\n",
       "</table>\n",
       "</div>"
      ],
      "text/plain": [
       "       agua / mL  KMnO4 / mL\n",
       "count  27.000000   27.000000\n",
       "mean   14.230000   15.029259\n",
       "std     0.050536    0.060886\n",
       "min    14.100000   14.950000\n",
       "25%    14.210000   15.000000\n",
       "50%    14.220000   15.000000\n",
       "75%    14.250000   15.100000\n",
       "max    14.300000   15.200000\n",
       "IQR     0.040000    0.100000"
      ]
     },
     "execution_count": 5,
     "metadata": {},
     "output_type": "execute_result"
    }
   ],
   "source": [
    "desc_table.loc['IQR'] = desc_table.loc['75%'] - desc_table.loc['25%']\n",
    "desc_table"
   ]
  },
  {
   "cell_type": "markdown",
   "metadata": {},
   "source": [
    "Há um maior *range* de valores para as leituras de permanganato de potássio, talvez *bins* mais largos no histograma sejam melhores para visualizar. Isso será testado a seguir."
   ]
  },
  {
   "cell_type": "markdown",
   "metadata": {},
   "source": [
    "## Tabelas de frequências"
   ]
  },
  {
   "cell_type": "markdown",
   "metadata": {},
   "source": [
    "Vamos criar tabelas de fequências para ter uma ideia melhor de qual a largura de _bins_ mais adequada para cada histograma."
   ]
  },
  {
   "cell_type": "markdown",
   "metadata": {},
   "source": [
    "### Água"
   ]
  },
  {
   "cell_type": "markdown",
   "metadata": {},
   "source": [
    "Vamos obter os valores mínimos e máximos de leitura."
   ]
  },
  {
   "cell_type": "code",
   "execution_count": 6,
   "metadata": {
    "ExecuteTime": {
     "end_time": "2020-01-16T16:30:55.470517Z",
     "start_time": "2020-01-16T16:30:55.279621Z"
    }
   },
   "outputs": [],
   "source": [
    "min_water = df['agua / mL'].min()\n",
    "max_water = df['agua / mL'].max()"
   ]
  },
  {
   "cell_type": "markdown",
   "metadata": {},
   "source": [
    "Testando intervalo de *bins* de 0.05"
   ]
  },
  {
   "cell_type": "code",
   "execution_count": 7,
   "metadata": {
    "ExecuteTime": {
     "end_time": "2020-01-16T16:30:55.605041Z",
     "start_time": "2020-01-16T16:30:55.472330Z"
    }
   },
   "outputs": [
    {
     "data": {
      "text/html": [
       "<div>\n",
       "<style scoped>\n",
       "    .dataframe tbody tr th:only-of-type {\n",
       "        vertical-align: middle;\n",
       "    }\n",
       "\n",
       "    .dataframe tbody tr th {\n",
       "        vertical-align: top;\n",
       "    }\n",
       "\n",
       "    .dataframe thead th {\n",
       "        text-align: right;\n",
       "    }\n",
       "</style>\n",
       "<table border=\"1\" class=\"dataframe\">\n",
       "  <thead>\n",
       "    <tr style=\"text-align: right;\">\n",
       "      <th></th>\n",
       "      <th>Count</th>\n",
       "      <th>Count / %</th>\n",
       "      <th>Cumulative count</th>\n",
       "      <th>Cumulative count / %</th>\n",
       "    </tr>\n",
       "    <tr>\n",
       "      <th>Bins</th>\n",
       "      <th></th>\n",
       "      <th></th>\n",
       "      <th></th>\n",
       "      <th></th>\n",
       "    </tr>\n",
       "  </thead>\n",
       "  <tbody>\n",
       "    <tr>\n",
       "      <th>[14.1, 14.15)</th>\n",
       "      <td>1</td>\n",
       "      <td>3.70</td>\n",
       "      <td>1</td>\n",
       "      <td>3.70</td>\n",
       "    </tr>\n",
       "    <tr>\n",
       "      <th>[14.15, 14.2)</th>\n",
       "      <td>5</td>\n",
       "      <td>18.52</td>\n",
       "      <td>6</td>\n",
       "      <td>22.22</td>\n",
       "    </tr>\n",
       "    <tr>\n",
       "      <th>[14.2, 14.25)</th>\n",
       "      <td>15</td>\n",
       "      <td>55.56</td>\n",
       "      <td>21</td>\n",
       "      <td>77.78</td>\n",
       "    </tr>\n",
       "    <tr>\n",
       "      <th>[14.25, 14.3)</th>\n",
       "      <td>6</td>\n",
       "      <td>22.22</td>\n",
       "      <td>27</td>\n",
       "      <td>100.00</td>\n",
       "    </tr>\n",
       "  </tbody>\n",
       "</table>\n",
       "</div>"
      ],
      "text/plain": [
       "               Count  Count / %  Cumulative count  Cumulative count / %\n",
       "Bins                                                                   \n",
       "[14.1, 14.15)      1       3.70                 1                  3.70\n",
       "[14.15, 14.2)      5      18.52                 6                 22.22\n",
       "[14.2, 14.25)     15      55.56                21                 77.78\n",
       "[14.25, 14.3)      6      22.22                27                100.00"
      ]
     },
     "execution_count": 7,
     "metadata": {},
     "output_type": "execute_result"
    }
   ],
   "source": [
    "bins_tab = statistics.freq_table(df['agua / mL'], min_water, max_water + 0.03, 0.05)\n",
    "bins_tab"
   ]
  },
  {
   "cell_type": "markdown",
   "metadata": {},
   "source": [
    "Testando intervalo de *bins* de 0.02"
   ]
  },
  {
   "cell_type": "code",
   "execution_count": 8,
   "metadata": {
    "ExecuteTime": {
     "end_time": "2020-01-16T16:30:55.782489Z",
     "start_time": "2020-01-16T16:30:55.607337Z"
    }
   },
   "outputs": [
    {
     "data": {
      "text/html": [
       "<div>\n",
       "<style scoped>\n",
       "    .dataframe tbody tr th:only-of-type {\n",
       "        vertical-align: middle;\n",
       "    }\n",
       "\n",
       "    .dataframe tbody tr th {\n",
       "        vertical-align: top;\n",
       "    }\n",
       "\n",
       "    .dataframe thead th {\n",
       "        text-align: right;\n",
       "    }\n",
       "</style>\n",
       "<table border=\"1\" class=\"dataframe\">\n",
       "  <thead>\n",
       "    <tr style=\"text-align: right;\">\n",
       "      <th></th>\n",
       "      <th>Count</th>\n",
       "      <th>Count / %</th>\n",
       "      <th>Cumulative count</th>\n",
       "      <th>Cumulative count / %</th>\n",
       "    </tr>\n",
       "    <tr>\n",
       "      <th>Bins</th>\n",
       "      <th></th>\n",
       "      <th></th>\n",
       "      <th></th>\n",
       "      <th></th>\n",
       "    </tr>\n",
       "  </thead>\n",
       "  <tbody>\n",
       "    <tr>\n",
       "      <th>[14.1, 14.12)</th>\n",
       "      <td>1</td>\n",
       "      <td>3.70</td>\n",
       "      <td>1</td>\n",
       "      <td>3.70</td>\n",
       "    </tr>\n",
       "    <tr>\n",
       "      <th>[14.12, 14.14)</th>\n",
       "      <td>0</td>\n",
       "      <td>0.00</td>\n",
       "      <td>1</td>\n",
       "      <td>3.70</td>\n",
       "    </tr>\n",
       "    <tr>\n",
       "      <th>[14.14, 14.16)</th>\n",
       "      <td>2</td>\n",
       "      <td>7.41</td>\n",
       "      <td>3</td>\n",
       "      <td>11.11</td>\n",
       "    </tr>\n",
       "    <tr>\n",
       "      <th>[14.16, 14.18)</th>\n",
       "      <td>0</td>\n",
       "      <td>0.00</td>\n",
       "      <td>3</td>\n",
       "      <td>11.11</td>\n",
       "    </tr>\n",
       "    <tr>\n",
       "      <th>[14.18, 14.2)</th>\n",
       "      <td>0</td>\n",
       "      <td>0.00</td>\n",
       "      <td>3</td>\n",
       "      <td>11.11</td>\n",
       "    </tr>\n",
       "    <tr>\n",
       "      <th>[14.2, 14.22)</th>\n",
       "      <td>9</td>\n",
       "      <td>33.33</td>\n",
       "      <td>12</td>\n",
       "      <td>44.44</td>\n",
       "    </tr>\n",
       "    <tr>\n",
       "      <th>[14.22, 14.24)</th>\n",
       "      <td>4</td>\n",
       "      <td>14.81</td>\n",
       "      <td>16</td>\n",
       "      <td>59.25</td>\n",
       "    </tr>\n",
       "    <tr>\n",
       "      <th>[14.24, 14.26)</th>\n",
       "      <td>5</td>\n",
       "      <td>18.52</td>\n",
       "      <td>21</td>\n",
       "      <td>77.77</td>\n",
       "    </tr>\n",
       "    <tr>\n",
       "      <th>[14.26, 14.28)</th>\n",
       "      <td>0</td>\n",
       "      <td>0.00</td>\n",
       "      <td>21</td>\n",
       "      <td>77.77</td>\n",
       "    </tr>\n",
       "    <tr>\n",
       "      <th>[14.28, 14.3)</th>\n",
       "      <td>0</td>\n",
       "      <td>0.00</td>\n",
       "      <td>21</td>\n",
       "      <td>77.77</td>\n",
       "    </tr>\n",
       "    <tr>\n",
       "      <th>[14.3, 14.32)</th>\n",
       "      <td>6</td>\n",
       "      <td>22.22</td>\n",
       "      <td>27</td>\n",
       "      <td>99.99</td>\n",
       "    </tr>\n",
       "  </tbody>\n",
       "</table>\n",
       "</div>"
      ],
      "text/plain": [
       "                Count  Count / %  Cumulative count  Cumulative count / %\n",
       "Bins                                                                    \n",
       "[14.1, 14.12)       1       3.70                 1                  3.70\n",
       "[14.12, 14.14)      0       0.00                 1                  3.70\n",
       "[14.14, 14.16)      2       7.41                 3                 11.11\n",
       "[14.16, 14.18)      0       0.00                 3                 11.11\n",
       "[14.18, 14.2)       0       0.00                 3                 11.11\n",
       "[14.2, 14.22)       9      33.33                12                 44.44\n",
       "[14.22, 14.24)      4      14.81                16                 59.25\n",
       "[14.24, 14.26)      5      18.52                21                 77.77\n",
       "[14.26, 14.28)      0       0.00                21                 77.77\n",
       "[14.28, 14.3)       0       0.00                21                 77.77\n",
       "[14.3, 14.32)       6      22.22                27                 99.99"
      ]
     },
     "execution_count": 8,
     "metadata": {},
     "output_type": "execute_result"
    }
   ],
   "source": [
    "bins_tab = statistics.freq_table(df['agua / mL'], min_water, max_water+0.02, 0.02)\n",
    "bins_tab"
   ]
  },
  {
   "cell_type": "markdown",
   "metadata": {},
   "source": [
    "Um intervalo de _bins_ menor permite um maior detalhamento dos dados, mas talvez não gere um histograma que seja adequado para visualização pois há intervalos sem dados. Mais abaixo serão construídos os dois histogramas.\n",
    "\n",
    "Mais detalhes sobre _bins_ e suas larguras podem ser lidos [aqui](https://en.wikipedia.org/wiki/Histogram#Number_of_bins_and_width)."
   ]
  },
  {
   "cell_type": "markdown",
   "metadata": {},
   "source": [
    "### $KMnO_4$"
   ]
  },
  {
   "cell_type": "markdown",
   "metadata": {},
   "source": [
    "Vamos obter os valores mínimos e máximos de leitura."
   ]
  },
  {
   "cell_type": "code",
   "execution_count": 9,
   "metadata": {
    "ExecuteTime": {
     "end_time": "2020-01-16T16:30:56.093367Z",
     "start_time": "2020-01-16T16:30:55.784554Z"
    }
   },
   "outputs": [],
   "source": [
    "min_perm = df['KMnO4 / mL'].min()\n",
    "max_perm = df['KMnO4 / mL'].max()"
   ]
  },
  {
   "cell_type": "markdown",
   "metadata": {},
   "source": [
    "Testando intervalo de *bins* de 0.05"
   ]
  },
  {
   "cell_type": "code",
   "execution_count": 10,
   "metadata": {
    "ExecuteTime": {
     "end_time": "2020-01-16T16:30:56.276587Z",
     "start_time": "2020-01-16T16:30:56.097451Z"
    }
   },
   "outputs": [
    {
     "data": {
      "text/html": [
       "<div>\n",
       "<style scoped>\n",
       "    .dataframe tbody tr th:only-of-type {\n",
       "        vertical-align: middle;\n",
       "    }\n",
       "\n",
       "    .dataframe tbody tr th {\n",
       "        vertical-align: top;\n",
       "    }\n",
       "\n",
       "    .dataframe thead th {\n",
       "        text-align: right;\n",
       "    }\n",
       "</style>\n",
       "<table border=\"1\" class=\"dataframe\">\n",
       "  <thead>\n",
       "    <tr style=\"text-align: right;\">\n",
       "      <th></th>\n",
       "      <th>Count</th>\n",
       "      <th>Count / %</th>\n",
       "      <th>Cumulative count</th>\n",
       "      <th>Cumulative count / %</th>\n",
       "    </tr>\n",
       "    <tr>\n",
       "      <th>Bins</th>\n",
       "      <th></th>\n",
       "      <th></th>\n",
       "      <th></th>\n",
       "      <th></th>\n",
       "    </tr>\n",
       "  </thead>\n",
       "  <tbody>\n",
       "    <tr>\n",
       "      <th>[14.95, 15.0)</th>\n",
       "      <td>6</td>\n",
       "      <td>22.22</td>\n",
       "      <td>6</td>\n",
       "      <td>22.22</td>\n",
       "    </tr>\n",
       "    <tr>\n",
       "      <th>[15.0, 15.05)</th>\n",
       "      <td>12</td>\n",
       "      <td>44.44</td>\n",
       "      <td>18</td>\n",
       "      <td>66.66</td>\n",
       "    </tr>\n",
       "    <tr>\n",
       "      <th>[15.05, 15.1)</th>\n",
       "      <td>8</td>\n",
       "      <td>29.63</td>\n",
       "      <td>26</td>\n",
       "      <td>96.29</td>\n",
       "    </tr>\n",
       "    <tr>\n",
       "      <th>[15.1, 15.15)</th>\n",
       "      <td>0</td>\n",
       "      <td>0.00</td>\n",
       "      <td>26</td>\n",
       "      <td>96.29</td>\n",
       "    </tr>\n",
       "    <tr>\n",
       "      <th>[15.15, 15.2)</th>\n",
       "      <td>1</td>\n",
       "      <td>3.70</td>\n",
       "      <td>27</td>\n",
       "      <td>99.99</td>\n",
       "    </tr>\n",
       "  </tbody>\n",
       "</table>\n",
       "</div>"
      ],
      "text/plain": [
       "               Count  Count / %  Cumulative count  Cumulative count / %\n",
       "Bins                                                                   \n",
       "[14.95, 15.0)      6      22.22                 6                 22.22\n",
       "[15.0, 15.05)     12      44.44                18                 66.66\n",
       "[15.05, 15.1)      8      29.63                26                 96.29\n",
       "[15.1, 15.15)      0       0.00                26                 96.29\n",
       "[15.15, 15.2)      1       3.70                27                 99.99"
      ]
     },
     "execution_count": 10,
     "metadata": {},
     "output_type": "execute_result"
    }
   ],
   "source": [
    "bins_tab = statistics.freq_table(df['KMnO4 / mL'], min_perm, max_perm + 0.04, 0.05)\n",
    "bins_tab"
   ]
  },
  {
   "cell_type": "markdown",
   "metadata": {},
   "source": [
    "Testando intervalo de *bins* de 0.02"
   ]
  },
  {
   "cell_type": "code",
   "execution_count": 11,
   "metadata": {
    "ExecuteTime": {
     "end_time": "2020-01-16T16:30:56.469359Z",
     "start_time": "2020-01-16T16:30:56.278160Z"
    }
   },
   "outputs": [
    {
     "data": {
      "text/html": [
       "<div>\n",
       "<style scoped>\n",
       "    .dataframe tbody tr th:only-of-type {\n",
       "        vertical-align: middle;\n",
       "    }\n",
       "\n",
       "    .dataframe tbody tr th {\n",
       "        vertical-align: top;\n",
       "    }\n",
       "\n",
       "    .dataframe thead th {\n",
       "        text-align: right;\n",
       "    }\n",
       "</style>\n",
       "<table border=\"1\" class=\"dataframe\">\n",
       "  <thead>\n",
       "    <tr style=\"text-align: right;\">\n",
       "      <th></th>\n",
       "      <th>Count</th>\n",
       "      <th>Count / %</th>\n",
       "      <th>Cumulative count</th>\n",
       "      <th>Cumulative count / %</th>\n",
       "    </tr>\n",
       "    <tr>\n",
       "      <th>Bins</th>\n",
       "      <th></th>\n",
       "      <th></th>\n",
       "      <th></th>\n",
       "      <th></th>\n",
       "    </tr>\n",
       "  </thead>\n",
       "  <tbody>\n",
       "    <tr>\n",
       "      <th>[14.95, 14.97)</th>\n",
       "      <td>2</td>\n",
       "      <td>7.41</td>\n",
       "      <td>2</td>\n",
       "      <td>7.41</td>\n",
       "    </tr>\n",
       "    <tr>\n",
       "      <th>[14.97, 14.99)</th>\n",
       "      <td>4</td>\n",
       "      <td>14.81</td>\n",
       "      <td>6</td>\n",
       "      <td>22.22</td>\n",
       "    </tr>\n",
       "    <tr>\n",
       "      <th>[14.99, 15.01)</th>\n",
       "      <td>9</td>\n",
       "      <td>33.33</td>\n",
       "      <td>15</td>\n",
       "      <td>55.55</td>\n",
       "    </tr>\n",
       "    <tr>\n",
       "      <th>[15.01, 15.03)</th>\n",
       "      <td>3</td>\n",
       "      <td>11.11</td>\n",
       "      <td>18</td>\n",
       "      <td>66.66</td>\n",
       "    </tr>\n",
       "    <tr>\n",
       "      <th>[15.03, 15.05)</th>\n",
       "      <td>0</td>\n",
       "      <td>0.00</td>\n",
       "      <td>18</td>\n",
       "      <td>66.66</td>\n",
       "    </tr>\n",
       "    <tr>\n",
       "      <th>[15.05, 15.07)</th>\n",
       "      <td>1</td>\n",
       "      <td>3.70</td>\n",
       "      <td>19</td>\n",
       "      <td>70.36</td>\n",
       "    </tr>\n",
       "    <tr>\n",
       "      <th>[15.07, 15.09)</th>\n",
       "      <td>0</td>\n",
       "      <td>0.00</td>\n",
       "      <td>19</td>\n",
       "      <td>70.36</td>\n",
       "    </tr>\n",
       "    <tr>\n",
       "      <th>[15.09, 15.11)</th>\n",
       "      <td>7</td>\n",
       "      <td>25.93</td>\n",
       "      <td>26</td>\n",
       "      <td>96.29</td>\n",
       "    </tr>\n",
       "    <tr>\n",
       "      <th>[15.11, 15.13)</th>\n",
       "      <td>0</td>\n",
       "      <td>0.00</td>\n",
       "      <td>26</td>\n",
       "      <td>96.29</td>\n",
       "    </tr>\n",
       "    <tr>\n",
       "      <th>[15.13, 15.15)</th>\n",
       "      <td>0</td>\n",
       "      <td>0.00</td>\n",
       "      <td>26</td>\n",
       "      <td>96.29</td>\n",
       "    </tr>\n",
       "    <tr>\n",
       "      <th>[15.15, 15.17)</th>\n",
       "      <td>0</td>\n",
       "      <td>0.00</td>\n",
       "      <td>26</td>\n",
       "      <td>96.29</td>\n",
       "    </tr>\n",
       "    <tr>\n",
       "      <th>[15.17, 15.19)</th>\n",
       "      <td>0</td>\n",
       "      <td>0.00</td>\n",
       "      <td>26</td>\n",
       "      <td>96.29</td>\n",
       "    </tr>\n",
       "    <tr>\n",
       "      <th>[15.19, 15.21)</th>\n",
       "      <td>1</td>\n",
       "      <td>3.70</td>\n",
       "      <td>27</td>\n",
       "      <td>99.99</td>\n",
       "    </tr>\n",
       "  </tbody>\n",
       "</table>\n",
       "</div>"
      ],
      "text/plain": [
       "                Count  Count / %  Cumulative count  Cumulative count / %\n",
       "Bins                                                                    \n",
       "[14.95, 14.97)      2       7.41                 2                  7.41\n",
       "[14.97, 14.99)      4      14.81                 6                 22.22\n",
       "[14.99, 15.01)      9      33.33                15                 55.55\n",
       "[15.01, 15.03)      3      11.11                18                 66.66\n",
       "[15.03, 15.05)      0       0.00                18                 66.66\n",
       "[15.05, 15.07)      1       3.70                19                 70.36\n",
       "[15.07, 15.09)      0       0.00                19                 70.36\n",
       "[15.09, 15.11)      7      25.93                26                 96.29\n",
       "[15.11, 15.13)      0       0.00                26                 96.29\n",
       "[15.13, 15.15)      0       0.00                26                 96.29\n",
       "[15.15, 15.17)      0       0.00                26                 96.29\n",
       "[15.17, 15.19)      0       0.00                26                 96.29\n",
       "[15.19, 15.21)      1       3.70                27                 99.99"
      ]
     },
     "execution_count": 11,
     "metadata": {},
     "output_type": "execute_result"
    }
   ],
   "source": [
    "bins_tab = statistics.freq_table(df['KMnO4 / mL'], min_perm, max_perm+0.02, 0.02)\n",
    "bins_tab"
   ]
  },
  {
   "cell_type": "markdown",
   "metadata": {},
   "source": [
    "O ideal é que a escala, nesse caso, seja de múltiplos de 2. Vamos modificar os valores de início e fim:"
   ]
  },
  {
   "cell_type": "code",
   "execution_count": 12,
   "metadata": {
    "ExecuteTime": {
     "end_time": "2020-01-16T16:30:56.625826Z",
     "start_time": "2020-01-16T16:30:56.471069Z"
    }
   },
   "outputs": [
    {
     "data": {
      "text/html": [
       "<div>\n",
       "<style scoped>\n",
       "    .dataframe tbody tr th:only-of-type {\n",
       "        vertical-align: middle;\n",
       "    }\n",
       "\n",
       "    .dataframe tbody tr th {\n",
       "        vertical-align: top;\n",
       "    }\n",
       "\n",
       "    .dataframe thead th {\n",
       "        text-align: right;\n",
       "    }\n",
       "</style>\n",
       "<table border=\"1\" class=\"dataframe\">\n",
       "  <thead>\n",
       "    <tr style=\"text-align: right;\">\n",
       "      <th></th>\n",
       "      <th>Count</th>\n",
       "      <th>Count / %</th>\n",
       "      <th>Cumulative count</th>\n",
       "      <th>Cumulative count / %</th>\n",
       "    </tr>\n",
       "    <tr>\n",
       "      <th>Bins</th>\n",
       "      <th></th>\n",
       "      <th></th>\n",
       "      <th></th>\n",
       "      <th></th>\n",
       "    </tr>\n",
       "  </thead>\n",
       "  <tbody>\n",
       "    <tr>\n",
       "      <th>[14.94, 14.96)</th>\n",
       "      <td>1</td>\n",
       "      <td>3.70</td>\n",
       "      <td>1</td>\n",
       "      <td>3.70</td>\n",
       "    </tr>\n",
       "    <tr>\n",
       "      <th>[14.96, 14.98)</th>\n",
       "      <td>3</td>\n",
       "      <td>11.11</td>\n",
       "      <td>4</td>\n",
       "      <td>14.81</td>\n",
       "    </tr>\n",
       "    <tr>\n",
       "      <th>[14.98, 15.0)</th>\n",
       "      <td>2</td>\n",
       "      <td>7.41</td>\n",
       "      <td>6</td>\n",
       "      <td>22.22</td>\n",
       "    </tr>\n",
       "    <tr>\n",
       "      <th>[15.0, 15.02)</th>\n",
       "      <td>12</td>\n",
       "      <td>44.44</td>\n",
       "      <td>18</td>\n",
       "      <td>66.66</td>\n",
       "    </tr>\n",
       "    <tr>\n",
       "      <th>[15.02, 15.04)</th>\n",
       "      <td>0</td>\n",
       "      <td>0.00</td>\n",
       "      <td>18</td>\n",
       "      <td>66.66</td>\n",
       "    </tr>\n",
       "    <tr>\n",
       "      <th>[15.04, 15.06)</th>\n",
       "      <td>1</td>\n",
       "      <td>3.70</td>\n",
       "      <td>19</td>\n",
       "      <td>70.36</td>\n",
       "    </tr>\n",
       "    <tr>\n",
       "      <th>[15.06, 15.08)</th>\n",
       "      <td>0</td>\n",
       "      <td>0.00</td>\n",
       "      <td>19</td>\n",
       "      <td>70.36</td>\n",
       "    </tr>\n",
       "    <tr>\n",
       "      <th>[15.08, 15.1)</th>\n",
       "      <td>0</td>\n",
       "      <td>0.00</td>\n",
       "      <td>19</td>\n",
       "      <td>70.36</td>\n",
       "    </tr>\n",
       "    <tr>\n",
       "      <th>[15.1, 15.12)</th>\n",
       "      <td>7</td>\n",
       "      <td>25.93</td>\n",
       "      <td>26</td>\n",
       "      <td>96.29</td>\n",
       "    </tr>\n",
       "    <tr>\n",
       "      <th>[15.12, 15.14)</th>\n",
       "      <td>0</td>\n",
       "      <td>0.00</td>\n",
       "      <td>26</td>\n",
       "      <td>96.29</td>\n",
       "    </tr>\n",
       "    <tr>\n",
       "      <th>[15.14, 15.16)</th>\n",
       "      <td>0</td>\n",
       "      <td>0.00</td>\n",
       "      <td>26</td>\n",
       "      <td>96.29</td>\n",
       "    </tr>\n",
       "    <tr>\n",
       "      <th>[15.16, 15.18)</th>\n",
       "      <td>0</td>\n",
       "      <td>0.00</td>\n",
       "      <td>26</td>\n",
       "      <td>96.29</td>\n",
       "    </tr>\n",
       "    <tr>\n",
       "      <th>[15.18, 15.2)</th>\n",
       "      <td>0</td>\n",
       "      <td>0.00</td>\n",
       "      <td>26</td>\n",
       "      <td>96.29</td>\n",
       "    </tr>\n",
       "    <tr>\n",
       "      <th>[15.2, 15.22)</th>\n",
       "      <td>1</td>\n",
       "      <td>3.70</td>\n",
       "      <td>27</td>\n",
       "      <td>99.99</td>\n",
       "    </tr>\n",
       "  </tbody>\n",
       "</table>\n",
       "</div>"
      ],
      "text/plain": [
       "                Count  Count / %  Cumulative count  Cumulative count / %\n",
       "Bins                                                                    \n",
       "[14.94, 14.96)      1       3.70                 1                  3.70\n",
       "[14.96, 14.98)      3      11.11                 4                 14.81\n",
       "[14.98, 15.0)       2       7.41                 6                 22.22\n",
       "[15.0, 15.02)      12      44.44                18                 66.66\n",
       "[15.02, 15.04)      0       0.00                18                 66.66\n",
       "[15.04, 15.06)      1       3.70                19                 70.36\n",
       "[15.06, 15.08)      0       0.00                19                 70.36\n",
       "[15.08, 15.1)       0       0.00                19                 70.36\n",
       "[15.1, 15.12)       7      25.93                26                 96.29\n",
       "[15.12, 15.14)      0       0.00                26                 96.29\n",
       "[15.14, 15.16)      0       0.00                26                 96.29\n",
       "[15.16, 15.18)      0       0.00                26                 96.29\n",
       "[15.18, 15.2)       0       0.00                26                 96.29\n",
       "[15.2, 15.22)       1       3.70                27                 99.99"
      ]
     },
     "execution_count": 12,
     "metadata": {},
     "output_type": "execute_result"
    }
   ],
   "source": [
    "bins_tab = statistics.freq_table(df['KMnO4 / mL'], min_perm-0.01, max_perm+0.03, 0.02)\n",
    "bins_tab"
   ]
  },
  {
   "cell_type": "markdown",
   "metadata": {},
   "source": [
    "Repare que há muitos intervalos sem dados até chegar ao valor da última leitura. Provavelmente há um outlier nesses dados, mas precisamos confirmar com ferramentas mais adequadas. Veremos ao plotar o boxplot."
   ]
  },
  {
   "cell_type": "markdown",
   "metadata": {
    "ExecuteTime": {
     "end_time": "2019-03-25T02:21:54.696145Z",
     "start_time": "2019-03-25T02:21:54.694321Z"
    }
   },
   "source": [
    "# Plots"
   ]
  },
  {
   "cell_type": "markdown",
   "metadata": {},
   "source": [
    "Para os gráficos, inicialmente criamos uma figura com dois sistemas de eixo, um acima do outro e compartilhando o mesmo eixo horizontal. Assim, passamos esses eixos para a função de histograma e de boxplot e os gráficos irão compartilhar os mesmos valores e serão apresentados um acima do outro."
   ]
  },
  {
   "cell_type": "markdown",
   "metadata": {},
   "source": [
    "## Água"
   ]
  },
  {
   "cell_type": "markdown",
   "metadata": {},
   "source": [
    "Testando plot com intervalo de bins 0.02."
   ]
  },
  {
   "cell_type": "code",
   "execution_count": 13,
   "metadata": {
    "ExecuteTime": {
     "end_time": "2020-01-16T16:30:57.180053Z",
     "start_time": "2020-01-16T16:30:56.626945Z"
    },
    "code_folding": []
   },
   "outputs": [
    {
     "data": {
      "image/png": "[encoded data removed]",
      "text/plain": [
       "<Figure size 864x576 with 2 Axes>"
      ]
     },
     "metadata": {},
     "output_type": "display_data"
    }
   ],
   "source": [
    "fig1, (ax2, ax1) = plt.subplots(figsize=(12, 8),\n",
    "                                nrows=2,\n",
    "                                sharex=True,\n",
    "                                facecolor=(1, 1, 1),\n",
    "                                gridspec_kw={\n",
    "                                    \"height_ratios\": (.15, .85),\n",
    "                                    'hspace': 0.02\n",
    "                                })\n",
    "\n",
    "statistics.plot_hist(df['agua / mL'], min_water, max_water + 0.03, 0.02, ax=ax1, outlier=True)\n",
    "statistics.plot_boxplot(df['agua / mL'], ax=ax2)\n",
    "\n",
    "fig1.subplots_adjust(top=0.90)\n",
    "fig1.suptitle('Análise estatística - Água', fontsize=20)\n",
    "\n",
    "plt.show()"
   ]
  },
  {
   "cell_type": "markdown",
   "metadata": {},
   "source": [
    "Testando plot com intervalo de bins 0.05."
   ]
  },
  {
   "cell_type": "code",
   "execution_count": 14,
   "metadata": {
    "ExecuteTime": {
     "end_time": "2020-01-16T16:30:57.432905Z",
     "start_time": "2020-01-16T16:30:57.181112Z"
    }
   },
   "outputs": [
    {
     "data": {
      "image/png": "[encoded data removed]",
      "text/plain": [
       "<Figure size 864x576 with 2 Axes>"
      ]
     },
     "metadata": {},
     "output_type": "display_data"
    }
   ],
   "source": [
    "fig2, (ax2, ax1) = plt.subplots(figsize=(12, 8),\n",
    "                                nrows=2,\n",
    "                                sharex=True,\n",
    "                                facecolor=(1, 1, 1),\n",
    "                                gridspec_kw={\n",
    "                                    \"height_ratios\": (.15, .85),\n",
    "                                    'hspace': 0.02\n",
    "                                })\n",
    "\n",
    "statistics.plot_hist(df['agua / mL'], min_water, max_water + 0.03, 0.05, ax=ax1, outlier=True)\n",
    "statistics.plot_boxplot(df['agua / mL'], ax=ax2)\n",
    "\n",
    "fig2.subplots_adjust(top=0.90)\n",
    "fig2.suptitle('Análise estatística - Água', fontsize=20)\n",
    "\n",
    "plt.show()"
   ]
  },
  {
   "cell_type": "markdown",
   "metadata": {},
   "source": [
    "Os histogramas ficam bem distintos, e podemos aproveitar e discutir o efeito da escolha do intervalo de *bins* na interpretação dos dados.\n",
    "\n",
    "Muito embora um menor intervalo permita analisar mais detalhadamente os dados, ele pode dar uma falsa sensação de descontinuidade. No histograma com menor intervalo, percebemos onde os dados se concentram, o que não é possível de perceber no de maior intervalo de forma independente, apenas com auxílio do boxplot. No entanto, o de maior intervalo apresenta continuidade entre os _bins_ contribuindo para a visualização de que se trata de uma distribuição.\n",
    "\n",
    "Por fim, o de menor intervalo serve também para destacar melhor os outliers que só são percebidos no histograma de maior intervalo com auxílio do boxplot na parte superior."
   ]
  },
  {
   "cell_type": "markdown",
   "metadata": {},
   "source": [
    "## $KMnO_4$"
   ]
  },
  {
   "cell_type": "markdown",
   "metadata": {},
   "source": [
    "Testando plot com intervalo de bins 0.02."
   ]
  },
  {
   "cell_type": "code",
   "execution_count": 15,
   "metadata": {
    "ExecuteTime": {
     "end_time": "2020-01-16T16:30:57.999630Z",
     "start_time": "2020-01-16T16:30:57.433915Z"
    }
   },
   "outputs": [
    {
     "data": {
      "image/png": "[encoded data removed]",
      "text/plain": [
       "<Figure size 864x576 with 2 Axes>"
      ]
     },
     "metadata": {},
     "output_type": "display_data"
    }
   ],
   "source": [
    "fig3, (ax2, ax1) = plt.subplots(figsize=(12, 8),\n",
    "                                nrows=2,\n",
    "                                sharex=True,\n",
    "                                facecolor=(1, 1, 1),\n",
    "                                gridspec_kw={\n",
    "                                    \"height_ratios\": (.15, .85),\n",
    "                                    'hspace': 0.02\n",
    "                                })\n",
    "\n",
    "statistics.plot_hist(df['KMnO4 / mL'], min_perm - 0.01, max_perm + 0.03, 0.02, ax=ax1, outlier=False)\n",
    "statistics.plot_boxplot(df['KMnO4 / mL'], ax=ax2)\n",
    "\n",
    "fig3.subplots_adjust(top=0.90)\n",
    "fig3.suptitle('Análise estatística - $KMnO_4$', fontsize=20)\n",
    "\n",
    "plt.show()"
   ]
  },
  {
   "cell_type": "markdown",
   "metadata": {},
   "source": [
    "Testando plot com intervalo de bins 0.05."
   ]
  },
  {
   "cell_type": "code",
   "execution_count": 16,
   "metadata": {
    "ExecuteTime": {
     "end_time": "2020-01-16T16:30:58.314137Z",
     "start_time": "2020-01-16T16:30:58.000642Z"
    }
   },
   "outputs": [
    {
     "data": {
      "image/png": "[encoded data removed]",
      "text/plain": [
       "<Figure size 864x576 with 2 Axes>"
      ]
     },
     "metadata": {},
     "output_type": "display_data"
    }
   ],
   "source": [
    "fig4, (ax2, ax1) = plt.subplots(figsize=(12, 8),\n",
    "                                nrows=2,\n",
    "                                sharex=True,\n",
    "                                facecolor=(1, 1, 1),\n",
    "                                gridspec_kw={\n",
    "                                    \"height_ratios\": (.15, .85),\n",
    "                                    'hspace': 0.02\n",
    "                                })\n",
    "\n",
    "statistics.plot_hist(df['KMnO4 / mL'], min_perm, max_perm + 0.01, 0.05, ax=ax1, outlier=False)\n",
    "statistics.plot_boxplot(df['KMnO4 / mL'], ax=ax2)\n",
    "\n",
    "fig4.subplots_adjust(top=0.90)\n",
    "fig4.suptitle('Análise estatística - $KMnO_4$', fontsize=20)\n",
    "\n",
    "plt.show()"
   ]
  },
  {
   "cell_type": "markdown",
   "metadata": {},
   "source": [
    "Repare que o histograma com maior intervalo não mostra o comportamento quase bimodal que se mostra no histograma de menor intervalo. \n",
    "\n",
    "Além disso, como há um grande IQR nesses dados, a leitura entre 15.20 e 15.22 não é considerada um outlier como se mostra no boxplot. Assim, vemos a importância de utilizarmos as ferramentas corretas. A análise apenas do histograma poderia levar um leitor a achar que tal leitura seria um outlier, mas o boxplot mostra que não.\n",
    "\n",
    "Por fim, o de menor intervalo serve também para mostrar que indicadores não necessariamente são valores que realmente foram medidos. Repare que a média se encontra numa região onde não foram obtidos valores por medida.\n"
   ]
  },
  {
   "cell_type": "markdown",
   "metadata": {},
   "source": [
    "# Informação de versão dos packages utilizados"
   ]
  },
  {
   "cell_type": "code",
   "execution_count": 17,
   "metadata": {
    "ExecuteTime": {
     "end_time": "2020-01-16T16:30:58.415233Z",
     "start_time": "2020-01-16T16:30:58.315133Z"
    }
   },
   "outputs": [
    {
     "data": {
      "application/json": {
       "Software versions": [
        {
         "module": "Python",
         "version": "3.7.3 64bit [GCC 7.3.0]"
        },
        {
         "module": "IPython",
         "version": "7.4.0"
        },
        {
         "module": "OS",
         "version": "Linux 5.0.0 32 generic x86_64 with debian buster sid"
        },
        {
         "module": "pandas",
         "version": "0.24.2"
        },
        {
         "module": "numpy",
         "version": "1.16.2"
        },
        {
         "module": "matplotlib",
         "version": "3.0.3"
        }
       ]
      },
      "text/html": [
       "<table><tr><th>Software</th><th>Version</th></tr><tr><td>Python</td><td>3.7.3 64bit [GCC 7.3.0]</td></tr><tr><td>IPython</td><td>7.4.0</td></tr><tr><td>OS</td><td>Linux 5.0.0 32 generic x86_64 with debian buster sid</td></tr><tr><td>pandas</td><td>0.24.2</td></tr><tr><td>numpy</td><td>1.16.2</td></tr><tr><td>matplotlib</td><td>3.0.3</td></tr><tr><td colspan='2'>Thu Jan 16 13:30:58 2020 -03</td></tr></table>"
      ],
      "text/latex": [
       "\\begin{tabular}{|l|l|}\\hline\n",
       "{\\bf Software} & {\\bf Version} \\\\ \\hline\\hline\n",
       "Python & 3.7.3 64bit [GCC 7.3.0] \\\\ \\hline\n",
       "IPython & 7.4.0 \\\\ \\hline\n",
       "OS & Linux 5.0.0 32 generic x86\\_64 with debian buster sid \\\\ \\hline\n",
       "pandas & 0.24.2 \\\\ \\hline\n",
       "numpy & 1.16.2 \\\\ \\hline\n",
       "matplotlib & 3.0.3 \\\\ \\hline\n",
       "\\hline \\multicolumn{2}{|l|}{Thu Jan 16 13:30:58 2020 -03} \\\\ \\hline\n",
       "\\end{tabular}\n"
      ],
      "text/plain": [
       "Software versions\n",
       "Python 3.7.3 64bit [GCC 7.3.0]\n",
       "IPython 7.4.0\n",
       "OS Linux 5.0.0 32 generic x86_64 with debian buster sid\n",
       "pandas 0.24.2\n",
       "numpy 1.16.2\n",
       "matplotlib 3.0.3\n",
       "Thu Jan 16 13:30:58 2020 -03"
      ]
     },
     "execution_count": 17,
     "metadata": {},
     "output_type": "execute_result"
    }
   ],
   "source": [
    "%load_ext version_information\n",
    "%version_information pandas, numpy, matplotlib"
   ]
  },
  {
   "cell_type": "code",
   "execution_count": null,
   "metadata": {},
   "outputs": [],
   "source": []
  }
 ],
 "metadata": {
  "hide_input": false,
  "kernelspec": {
   "display_name": "Python 3",
   "language": "python",
   "name": "python3"
  },
  "language_info": {
   "codemirror_mode": {
    "name": "ipython",
    "version": 3
   },
   "file_extension": ".py",
   "mimetype": "text/x-python",
   "name": "python",
   "nbconvert_exporter": "python",
   "pygments_lexer": "ipython3",
   "version": "3.7.3"
  },
  "toc": {
   "base_numbering": 1,
   "nav_menu": {
    "height": "73px",
    "width": "218px"
   },
   "number_sections": true,
   "sideBar": true,
   "skip_h1_title": false,
   "title_cell": "Table of Contents",
   "title_sidebar": "Contents",
   "toc_cell": false,
   "toc_position": {
    "height": "calc(100% - 180px)",
    "left": "10px",
    "top": "150px",
    "width": "194.8px"
   },
   "toc_section_display": true,
   "toc_window_display": true
  },
  "varInspector": {
   "cols": {
    "lenName": 16,
    "lenType": 16,
    "lenVar": 40
   },
   "kernels_config": {
    "python": {
     "delete_cmd_postfix": "",
     "delete_cmd_prefix": "del ",
     "library": "var_list.py",
     "varRefreshCmd": "print(var_dic_list())"
    },
    "r": {
     "delete_cmd_postfix": ") ",
     "delete_cmd_prefix": "rm(",
     "library": "var_list.r",
     "varRefreshCmd": "cat(var_dic_list()) "
    }
   },
   "types_to_exclude": [
    "module",
    "function",
    "builtin_function_or_method",
    "instance",
    "_Feature"
   ],
   "window_display": false
  }
 },
 "nbformat": 4,
 "nbformat_minor": 2
}
