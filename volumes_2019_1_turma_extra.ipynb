{
 "cells": [
  {
   "cell_type": "markdown",
   "metadata": {},
   "source": [
    "# Introdução"
   ]
  },
  {
   "cell_type": "markdown",
   "metadata": {},
   "source": [
    "Este arquivo se refere aos dados obtidos pela turma extra de Química Geral I do curso de Processos\n",
    "Químicos do IFRJ _campus_ Rio de Janeiro, no 1º semestre de 2019, em uma prática de laboratório cujo objetivo era ensinar\n",
    "aos alunos como ler o volume escoado de um dado líquido em buretas e analisar os resultados da turma como um todo, entendendo os motivos que levam a ter leituras distintas.\n",
    "\n",
    "Ao se repetir várias vezes uma medição são encontrados vários resultados diferentes,\n",
    "embora alguns possam coincidir. Ou seja, ao medir várias vezes a mesma grandeza, usando\n",
    "o mesmo instrumento e o mesmo observador é possı́vel que as medidas encontradas sejam\n",
    "diferentes. A isto se chama *dispersão* das medidas.\n",
    "\n",
    "No caso em questão, foram realizadas diversas medidas por diferentes pessoas. As medidas\n",
    "foram de volume escoado em buretas. O líquido da primeira bureta era água e o da segunda\n",
    "era uma solução de permanganato de potássio, que possui uma coloração roxa intensa.\n",
    "\n",
    "O objetivo é demonstrar que, realizando muitas medidas, boa parte irá se concentrar ao redor\n",
    "de uma faixa de valores. Eventualmente, podem surgir valores discrepantes (*outliers*) que\n",
    "podem ser devido a erros de leitura. A forma correta de ler uma escala em uma vidraria \n",
    "como a bureta é manter a escala na altura dos olhos. Em soluções aquosas, a leitura do volume\n",
    "é feita pela parte de baixo do menisco formado pelo líquido. No entanto, quando o líquido\n",
    "é muito escuro, como no caso da solução de permanganto, a visualização do menisco fica dificultada.\n",
    "\n",
    "O erro devido a uma leitura feita acima ou abaixo da linha do menisco do líquido é chamado de\n",
    "**erro de paralaxe** e é exemplificado na figura abaixo. Esse erro é uma possível fonte de\n",
    "*outliers* por ser um erro grosseiro.\n",
    "\n",
    "<img src='images/parallax.png' width=200 height=200>\n",
    "\n",
    "A dispersão nos valores, desconsiderando erros grosseiros, podem ter diversas origens.\n",
    "Como as medidas são feitas por pessoas distintas, a própria acuidade visual da pessoa\n",
    "pode afetar, além de efeitos de iluminação do local, reflexos no caso de usuários de óculos,\n",
    "dentre diversos outros fatores.\n",
    "\n",
    "Tópicos que podem ser discutidos com base nesse experimento:\n",
    "\n",
    "- conceitos de *precisão* e *exatidão*\n",
    "- conceitos de *repetibilidade* e *reprodutibilidade*\n",
    "- tipos de erros (grosseiros, sistemáticos, randômicos)\n",
    "- conceitos básicos de estatística (dispersão, média, mediana, algarismos significativos)\n",
    "- construção e interpretação de histogramas e boxplots\n",
    "    - influência da largura de classes (*bins*) na interpretação de um histograma"
   ]
  },
  {
   "cell_type": "markdown",
   "metadata": {},
   "source": [
    "# Setup"
   ]
  },
  {
   "cell_type": "markdown",
   "metadata": {},
   "source": [
    "Importe as seguintes bibliotecas para que os exemplos e tratamentos dos dados do notebook funcionem."
   ]
  },
  {
   "cell_type": "code",
   "execution_count": 1,
   "metadata": {
    "ExecuteTime": {
     "end_time": "2020-01-16T16:31:18.653676Z",
     "start_time": "2020-01-16T16:31:18.354283Z"
    }
   },
   "outputs": [],
   "source": [
    "import pandas as pd\n",
    "import numpy as np\n",
    "import matplotlib.pyplot as plt"
   ]
  },
  {
   "cell_type": "markdown",
   "metadata": {},
   "source": [
    "A biblioteca a seguir foi criada especialmente para esse trabalho, permitindo uma rápida análise dos dados e geração de gráficos."
   ]
  },
  {
   "cell_type": "code",
   "execution_count": 2,
   "metadata": {
    "ExecuteTime": {
     "end_time": "2020-01-16T16:31:18.657134Z",
     "start_time": "2020-01-16T16:31:18.654892Z"
    }
   },
   "outputs": [],
   "source": [
    "import statistics"
   ]
  },
  {
   "cell_type": "markdown",
   "metadata": {},
   "source": [
    "# Importação dos dados"
   ]
  },
  {
   "cell_type": "code",
   "execution_count": 3,
   "metadata": {
    "ExecuteTime": {
     "end_time": "2020-01-16T16:31:18.940303Z",
     "start_time": "2020-01-16T16:31:18.658337Z"
    }
   },
   "outputs": [
    {
     "data": {
      "text/html": [
       "<div>\n",
       "<style scoped>\n",
       "    .dataframe tbody tr th:only-of-type {\n",
       "        vertical-align: middle;\n",
       "    }\n",
       "\n",
       "    .dataframe tbody tr th {\n",
       "        vertical-align: top;\n",
       "    }\n",
       "\n",
       "    .dataframe thead th {\n",
       "        text-align: right;\n",
       "    }\n",
       "</style>\n",
       "<table border=\"1\" class=\"dataframe\">\n",
       "  <thead>\n",
       "    <tr style=\"text-align: right;\">\n",
       "      <th></th>\n",
       "      <th>agua / mL</th>\n",
       "      <th>KMnO4 / mL</th>\n",
       "    </tr>\n",
       "  </thead>\n",
       "  <tbody>\n",
       "    <tr>\n",
       "      <th>0</th>\n",
       "      <td>17.34</td>\n",
       "      <td>15.12</td>\n",
       "    </tr>\n",
       "    <tr>\n",
       "      <th>1</th>\n",
       "      <td>17.30</td>\n",
       "      <td>15.10</td>\n",
       "    </tr>\n",
       "    <tr>\n",
       "      <th>2</th>\n",
       "      <td>17.40</td>\n",
       "      <td>15.09</td>\n",
       "    </tr>\n",
       "    <tr>\n",
       "      <th>3</th>\n",
       "      <td>17.35</td>\n",
       "      <td>15.08</td>\n",
       "    </tr>\n",
       "    <tr>\n",
       "      <th>4</th>\n",
       "      <td>17.45</td>\n",
       "      <td>15.10</td>\n",
       "    </tr>\n",
       "  </tbody>\n",
       "</table>\n",
       "</div>"
      ],
      "text/plain": [
       "   agua / mL  KMnO4 / mL\n",
       "0      17.34       15.12\n",
       "1      17.30       15.10\n",
       "2      17.40       15.09\n",
       "3      17.35       15.08\n",
       "4      17.45       15.10"
      ]
     },
     "execution_count": 3,
     "metadata": {},
     "output_type": "execute_result"
    }
   ],
   "source": [
    "df = pd.read_csv('dados_brutos/volumes2019_1_extra.csv')\n",
    "df.head()"
   ]
  },
  {
   "cell_type": "markdown",
   "metadata": {},
   "source": [
    "Breve detalhamento dos dados com o método `describe` do `pandas`."
   ]
  },
  {
   "cell_type": "code",
   "execution_count": 4,
   "metadata": {
    "ExecuteTime": {
     "end_time": "2020-01-16T16:31:19.113045Z",
     "start_time": "2020-01-16T16:31:18.943488Z"
    }
   },
   "outputs": [
    {
     "data": {
      "text/html": [
       "<div>\n",
       "<style scoped>\n",
       "    .dataframe tbody tr th:only-of-type {\n",
       "        vertical-align: middle;\n",
       "    }\n",
       "\n",
       "    .dataframe tbody tr th {\n",
       "        vertical-align: top;\n",
       "    }\n",
       "\n",
       "    .dataframe thead th {\n",
       "        text-align: right;\n",
       "    }\n",
       "</style>\n",
       "<table border=\"1\" class=\"dataframe\">\n",
       "  <thead>\n",
       "    <tr style=\"text-align: right;\">\n",
       "      <th></th>\n",
       "      <th>agua / mL</th>\n",
       "      <th>KMnO4 / mL</th>\n",
       "    </tr>\n",
       "  </thead>\n",
       "  <tbody>\n",
       "    <tr>\n",
       "      <th>count</th>\n",
       "      <td>16.000000</td>\n",
       "      <td>16.000000</td>\n",
       "    </tr>\n",
       "    <tr>\n",
       "      <th>mean</th>\n",
       "      <td>17.349375</td>\n",
       "      <td>15.117500</td>\n",
       "    </tr>\n",
       "    <tr>\n",
       "      <th>std</th>\n",
       "      <td>0.057326</td>\n",
       "      <td>0.035684</td>\n",
       "    </tr>\n",
       "    <tr>\n",
       "      <th>min</th>\n",
       "      <td>17.220000</td>\n",
       "      <td>15.080000</td>\n",
       "    </tr>\n",
       "    <tr>\n",
       "      <th>25%</th>\n",
       "      <td>17.300000</td>\n",
       "      <td>15.100000</td>\n",
       "    </tr>\n",
       "    <tr>\n",
       "      <th>50%</th>\n",
       "      <td>17.350000</td>\n",
       "      <td>15.100000</td>\n",
       "    </tr>\n",
       "    <tr>\n",
       "      <th>75%</th>\n",
       "      <td>17.392500</td>\n",
       "      <td>15.120000</td>\n",
       "    </tr>\n",
       "    <tr>\n",
       "      <th>max</th>\n",
       "      <td>17.450000</td>\n",
       "      <td>15.200000</td>\n",
       "    </tr>\n",
       "  </tbody>\n",
       "</table>\n",
       "</div>"
      ],
      "text/plain": [
       "       agua / mL  KMnO4 / mL\n",
       "count  16.000000   16.000000\n",
       "mean   17.349375   15.117500\n",
       "std     0.057326    0.035684\n",
       "min    17.220000   15.080000\n",
       "25%    17.300000   15.100000\n",
       "50%    17.350000   15.100000\n",
       "75%    17.392500   15.120000\n",
       "max    17.450000   15.200000"
      ]
     },
     "execution_count": 4,
     "metadata": {},
     "output_type": "execute_result"
    }
   ],
   "source": [
    "desc_table = df.describe()\n",
    "desc_table"
   ]
  },
  {
   "cell_type": "markdown",
   "metadata": {},
   "source": [
    "## Tabela com IQR\n",
    "\n",
    "Vamos criar uma linha para o intervalo interquartil (*interquartile range* - IQR em inglês) na tabela de descrição de dados. O IQR é o intervalo onde se concentra parte significativa dos dados e sua largura dá uma indicação da dispersão desses valores centrais."
   ]
  },
  {
   "cell_type": "code",
   "execution_count": 5,
   "metadata": {
    "ExecuteTime": {
     "end_time": "2020-01-16T16:31:19.287786Z",
     "start_time": "2020-01-16T16:31:19.115949Z"
    }
   },
   "outputs": [
    {
     "data": {
      "text/html": [
       "<div>\n",
       "<style scoped>\n",
       "    .dataframe tbody tr th:only-of-type {\n",
       "        vertical-align: middle;\n",
       "    }\n",
       "\n",
       "    .dataframe tbody tr th {\n",
       "        vertical-align: top;\n",
       "    }\n",
       "\n",
       "    .dataframe thead th {\n",
       "        text-align: right;\n",
       "    }\n",
       "</style>\n",
       "<table border=\"1\" class=\"dataframe\">\n",
       "  <thead>\n",
       "    <tr style=\"text-align: right;\">\n",
       "      <th></th>\n",
       "      <th>agua / mL</th>\n",
       "      <th>KMnO4 / mL</th>\n",
       "    </tr>\n",
       "  </thead>\n",
       "  <tbody>\n",
       "    <tr>\n",
       "      <th>count</th>\n",
       "      <td>16.000000</td>\n",
       "      <td>16.000000</td>\n",
       "    </tr>\n",
       "    <tr>\n",
       "      <th>mean</th>\n",
       "      <td>17.349375</td>\n",
       "      <td>15.117500</td>\n",
       "    </tr>\n",
       "    <tr>\n",
       "      <th>std</th>\n",
       "      <td>0.057326</td>\n",
       "      <td>0.035684</td>\n",
       "    </tr>\n",
       "    <tr>\n",
       "      <th>min</th>\n",
       "      <td>17.220000</td>\n",
       "      <td>15.080000</td>\n",
       "    </tr>\n",
       "    <tr>\n",
       "      <th>25%</th>\n",
       "      <td>17.300000</td>\n",
       "      <td>15.100000</td>\n",
       "    </tr>\n",
       "    <tr>\n",
       "      <th>50%</th>\n",
       "      <td>17.350000</td>\n",
       "      <td>15.100000</td>\n",
       "    </tr>\n",
       "    <tr>\n",
       "      <th>75%</th>\n",
       "      <td>17.392500</td>\n",
       "      <td>15.120000</td>\n",
       "    </tr>\n",
       "    <tr>\n",
       "      <th>max</th>\n",
       "      <td>17.450000</td>\n",
       "      <td>15.200000</td>\n",
       "    </tr>\n",
       "    <tr>\n",
       "      <th>IQR</th>\n",
       "      <td>0.092500</td>\n",
       "      <td>0.020000</td>\n",
       "    </tr>\n",
       "  </tbody>\n",
       "</table>\n",
       "</div>"
      ],
      "text/plain": [
       "       agua / mL  KMnO4 / mL\n",
       "count  16.000000   16.000000\n",
       "mean   17.349375   15.117500\n",
       "std     0.057326    0.035684\n",
       "min    17.220000   15.080000\n",
       "25%    17.300000   15.100000\n",
       "50%    17.350000   15.100000\n",
       "75%    17.392500   15.120000\n",
       "max    17.450000   15.200000\n",
       "IQR     0.092500    0.020000"
      ]
     },
     "execution_count": 5,
     "metadata": {},
     "output_type": "execute_result"
    }
   ],
   "source": [
    "desc_table.loc['IQR'] = desc_table.loc['75%'] - desc_table.loc['25%']\n",
    "desc_table"
   ]
  },
  {
   "cell_type": "markdown",
   "metadata": {},
   "source": [
    "Há um maior *range* de valores para as leituras de água, talvez *bins* mais largos no histograma sejam melhores para visualizar. Isso será testado a seguir."
   ]
  },
  {
   "cell_type": "markdown",
   "metadata": {},
   "source": [
    "## Tabelas de frequências"
   ]
  },
  {
   "cell_type": "markdown",
   "metadata": {},
   "source": [
    "Vamos criar tabelas de fequências para ter uma ideia melhor de qual a largura de _bins_ mais adequada para cada histograma."
   ]
  },
  {
   "cell_type": "markdown",
   "metadata": {},
   "source": [
    "### Água"
   ]
  },
  {
   "cell_type": "markdown",
   "metadata": {},
   "source": [
    "Vamos obter os valores mínimos e máximos de leitura."
   ]
  },
  {
   "cell_type": "code",
   "execution_count": 6,
   "metadata": {
    "ExecuteTime": {
     "end_time": "2020-01-16T16:31:19.444406Z",
     "start_time": "2020-01-16T16:31:19.290848Z"
    }
   },
   "outputs": [],
   "source": [
    "min_water = df['agua / mL'].min()\n",
    "max_water = df['agua / mL'].max()"
   ]
  },
  {
   "cell_type": "markdown",
   "metadata": {},
   "source": [
    "Testando intervalo de *bins* de 0.05."
   ]
  },
  {
   "cell_type": "code",
   "execution_count": 7,
   "metadata": {
    "ExecuteTime": {
     "end_time": "2020-01-16T16:31:19.643331Z",
     "start_time": "2020-01-16T16:31:19.450371Z"
    }
   },
   "outputs": [
    {
     "data": {
      "text/html": [
       "<div>\n",
       "<style scoped>\n",
       "    .dataframe tbody tr th:only-of-type {\n",
       "        vertical-align: middle;\n",
       "    }\n",
       "\n",
       "    .dataframe tbody tr th {\n",
       "        vertical-align: top;\n",
       "    }\n",
       "\n",
       "    .dataframe thead th {\n",
       "        text-align: right;\n",
       "    }\n",
       "</style>\n",
       "<table border=\"1\" class=\"dataframe\">\n",
       "  <thead>\n",
       "    <tr style=\"text-align: right;\">\n",
       "      <th></th>\n",
       "      <th>Count</th>\n",
       "      <th>Count / %</th>\n",
       "      <th>Cumulative count</th>\n",
       "      <th>Cumulative count / %</th>\n",
       "    </tr>\n",
       "    <tr>\n",
       "      <th>Bins</th>\n",
       "      <th></th>\n",
       "      <th></th>\n",
       "      <th></th>\n",
       "      <th></th>\n",
       "    </tr>\n",
       "  </thead>\n",
       "  <tbody>\n",
       "    <tr>\n",
       "      <th>[17.22, 17.27)</th>\n",
       "      <td>1</td>\n",
       "      <td>6.25</td>\n",
       "      <td>1</td>\n",
       "      <td>6.25</td>\n",
       "    </tr>\n",
       "    <tr>\n",
       "      <th>[17.27, 17.32)</th>\n",
       "      <td>4</td>\n",
       "      <td>25.00</td>\n",
       "      <td>5</td>\n",
       "      <td>31.25</td>\n",
       "    </tr>\n",
       "    <tr>\n",
       "      <th>[17.32, 17.37)</th>\n",
       "      <td>5</td>\n",
       "      <td>31.25</td>\n",
       "      <td>10</td>\n",
       "      <td>62.50</td>\n",
       "    </tr>\n",
       "    <tr>\n",
       "      <th>[17.37, 17.42)</th>\n",
       "      <td>5</td>\n",
       "      <td>31.25</td>\n",
       "      <td>15</td>\n",
       "      <td>93.75</td>\n",
       "    </tr>\n",
       "    <tr>\n",
       "      <th>[17.42, 17.47)</th>\n",
       "      <td>1</td>\n",
       "      <td>6.25</td>\n",
       "      <td>16</td>\n",
       "      <td>100.00</td>\n",
       "    </tr>\n",
       "  </tbody>\n",
       "</table>\n",
       "</div>"
      ],
      "text/plain": [
       "                Count  Count / %  Cumulative count  Cumulative count / %\n",
       "Bins                                                                    \n",
       "[17.22, 17.27)      1       6.25                 1                  6.25\n",
       "[17.27, 17.32)      4      25.00                 5                 31.25\n",
       "[17.32, 17.37)      5      31.25                10                 62.50\n",
       "[17.37, 17.42)      5      31.25                15                 93.75\n",
       "[17.42, 17.47)      1       6.25                16                100.00"
      ]
     },
     "execution_count": 7,
     "metadata": {},
     "output_type": "execute_result"
    }
   ],
   "source": [
    "bins_tab = statistics.freq_table(df['agua / mL'], min_water, max_water + 0.03, 0.05)\n",
    "bins_tab"
   ]
  },
  {
   "cell_type": "markdown",
   "metadata": {},
   "source": [
    "O ideal, nesse caso, é que os valores da escala sejam múltiplos de 5. Assim, vamos mudar os valores mínimos e máximos:"
   ]
  },
  {
   "cell_type": "code",
   "execution_count": 8,
   "metadata": {
    "ExecuteTime": {
     "end_time": "2020-01-16T16:31:19.848194Z",
     "start_time": "2020-01-16T16:31:19.645374Z"
    }
   },
   "outputs": [
    {
     "data": {
      "text/html": [
       "<div>\n",
       "<style scoped>\n",
       "    .dataframe tbody tr th:only-of-type {\n",
       "        vertical-align: middle;\n",
       "    }\n",
       "\n",
       "    .dataframe tbody tr th {\n",
       "        vertical-align: top;\n",
       "    }\n",
       "\n",
       "    .dataframe thead th {\n",
       "        text-align: right;\n",
       "    }\n",
       "</style>\n",
       "<table border=\"1\" class=\"dataframe\">\n",
       "  <thead>\n",
       "    <tr style=\"text-align: right;\">\n",
       "      <th></th>\n",
       "      <th>Count</th>\n",
       "      <th>Count / %</th>\n",
       "      <th>Cumulative count</th>\n",
       "      <th>Cumulative count / %</th>\n",
       "    </tr>\n",
       "    <tr>\n",
       "      <th>Bins</th>\n",
       "      <th></th>\n",
       "      <th></th>\n",
       "      <th></th>\n",
       "      <th></th>\n",
       "    </tr>\n",
       "  </thead>\n",
       "  <tbody>\n",
       "    <tr>\n",
       "      <th>[17.2, 17.25)</th>\n",
       "      <td>1</td>\n",
       "      <td>6.25</td>\n",
       "      <td>1</td>\n",
       "      <td>6.25</td>\n",
       "    </tr>\n",
       "    <tr>\n",
       "      <th>[17.25, 17.3)</th>\n",
       "      <td>0</td>\n",
       "      <td>0.00</td>\n",
       "      <td>1</td>\n",
       "      <td>6.25</td>\n",
       "    </tr>\n",
       "    <tr>\n",
       "      <th>[17.3, 17.35)</th>\n",
       "      <td>6</td>\n",
       "      <td>37.50</td>\n",
       "      <td>7</td>\n",
       "      <td>43.75</td>\n",
       "    </tr>\n",
       "    <tr>\n",
       "      <th>[17.35, 17.4)</th>\n",
       "      <td>6</td>\n",
       "      <td>37.50</td>\n",
       "      <td>13</td>\n",
       "      <td>81.25</td>\n",
       "    </tr>\n",
       "    <tr>\n",
       "      <th>[17.4, 17.45)</th>\n",
       "      <td>3</td>\n",
       "      <td>18.75</td>\n",
       "      <td>16</td>\n",
       "      <td>100.00</td>\n",
       "    </tr>\n",
       "  </tbody>\n",
       "</table>\n",
       "</div>"
      ],
      "text/plain": [
       "               Count  Count / %  Cumulative count  Cumulative count / %\n",
       "Bins                                                                   \n",
       "[17.2, 17.25)      1       6.25                 1                  6.25\n",
       "[17.25, 17.3)      0       0.00                 1                  6.25\n",
       "[17.3, 17.35)      6      37.50                 7                 43.75\n",
       "[17.35, 17.4)      6      37.50                13                 81.25\n",
       "[17.4, 17.45)      3      18.75                16                100.00"
      ]
     },
     "execution_count": 8,
     "metadata": {},
     "output_type": "execute_result"
    }
   ],
   "source": [
    "bins_tab = statistics.freq_table(df['agua / mL'], min_water-0.02, max_water+0.02, 0.05)\n",
    "bins_tab"
   ]
  },
  {
   "cell_type": "markdown",
   "metadata": {},
   "source": [
    "Testando intervalo de _bins_ de 0.02."
   ]
  },
  {
   "cell_type": "code",
   "execution_count": 9,
   "metadata": {
    "ExecuteTime": {
     "end_time": "2020-01-16T16:31:20.060299Z",
     "start_time": "2020-01-16T16:31:19.850701Z"
    }
   },
   "outputs": [
    {
     "data": {
      "text/html": [
       "<div>\n",
       "<style scoped>\n",
       "    .dataframe tbody tr th:only-of-type {\n",
       "        vertical-align: middle;\n",
       "    }\n",
       "\n",
       "    .dataframe tbody tr th {\n",
       "        vertical-align: top;\n",
       "    }\n",
       "\n",
       "    .dataframe thead th {\n",
       "        text-align: right;\n",
       "    }\n",
       "</style>\n",
       "<table border=\"1\" class=\"dataframe\">\n",
       "  <thead>\n",
       "    <tr style=\"text-align: right;\">\n",
       "      <th></th>\n",
       "      <th>Count</th>\n",
       "      <th>Count / %</th>\n",
       "      <th>Cumulative count</th>\n",
       "      <th>Cumulative count / %</th>\n",
       "    </tr>\n",
       "    <tr>\n",
       "      <th>Bins</th>\n",
       "      <th></th>\n",
       "      <th></th>\n",
       "      <th></th>\n",
       "      <th></th>\n",
       "    </tr>\n",
       "  </thead>\n",
       "  <tbody>\n",
       "    <tr>\n",
       "      <th>[17.22, 17.24)</th>\n",
       "      <td>1</td>\n",
       "      <td>6.25</td>\n",
       "      <td>1</td>\n",
       "      <td>6.25</td>\n",
       "    </tr>\n",
       "    <tr>\n",
       "      <th>[17.24, 17.26)</th>\n",
       "      <td>0</td>\n",
       "      <td>0.00</td>\n",
       "      <td>1</td>\n",
       "      <td>6.25</td>\n",
       "    </tr>\n",
       "    <tr>\n",
       "      <th>[17.26, 17.28)</th>\n",
       "      <td>0</td>\n",
       "      <td>0.00</td>\n",
       "      <td>1</td>\n",
       "      <td>6.25</td>\n",
       "    </tr>\n",
       "    <tr>\n",
       "      <th>[17.28, 17.3)</th>\n",
       "      <td>0</td>\n",
       "      <td>0.00</td>\n",
       "      <td>1</td>\n",
       "      <td>6.25</td>\n",
       "    </tr>\n",
       "    <tr>\n",
       "      <th>[17.3, 17.32)</th>\n",
       "      <td>4</td>\n",
       "      <td>25.00</td>\n",
       "      <td>5</td>\n",
       "      <td>31.25</td>\n",
       "    </tr>\n",
       "    <tr>\n",
       "      <th>[17.32, 17.34)</th>\n",
       "      <td>0</td>\n",
       "      <td>0.00</td>\n",
       "      <td>5</td>\n",
       "      <td>31.25</td>\n",
       "    </tr>\n",
       "    <tr>\n",
       "      <th>[17.34, 17.36)</th>\n",
       "      <td>5</td>\n",
       "      <td>31.25</td>\n",
       "      <td>10</td>\n",
       "      <td>62.50</td>\n",
       "    </tr>\n",
       "    <tr>\n",
       "      <th>[17.36, 17.38)</th>\n",
       "      <td>0</td>\n",
       "      <td>0.00</td>\n",
       "      <td>10</td>\n",
       "      <td>62.50</td>\n",
       "    </tr>\n",
       "    <tr>\n",
       "      <th>[17.38, 17.4)</th>\n",
       "      <td>2</td>\n",
       "      <td>12.50</td>\n",
       "      <td>12</td>\n",
       "      <td>75.00</td>\n",
       "    </tr>\n",
       "    <tr>\n",
       "      <th>[17.4, 17.42)</th>\n",
       "      <td>3</td>\n",
       "      <td>18.75</td>\n",
       "      <td>15</td>\n",
       "      <td>93.75</td>\n",
       "    </tr>\n",
       "    <tr>\n",
       "      <th>[17.42, 17.44)</th>\n",
       "      <td>0</td>\n",
       "      <td>0.00</td>\n",
       "      <td>15</td>\n",
       "      <td>93.75</td>\n",
       "    </tr>\n",
       "    <tr>\n",
       "      <th>[17.44, 17.46)</th>\n",
       "      <td>1</td>\n",
       "      <td>6.25</td>\n",
       "      <td>16</td>\n",
       "      <td>100.00</td>\n",
       "    </tr>\n",
       "    <tr>\n",
       "      <th>[17.46, 17.48)</th>\n",
       "      <td>0</td>\n",
       "      <td>0.00</td>\n",
       "      <td>16</td>\n",
       "      <td>100.00</td>\n",
       "    </tr>\n",
       "  </tbody>\n",
       "</table>\n",
       "</div>"
      ],
      "text/plain": [
       "                Count  Count / %  Cumulative count  Cumulative count / %\n",
       "Bins                                                                    \n",
       "[17.22, 17.24)      1       6.25                 1                  6.25\n",
       "[17.24, 17.26)      0       0.00                 1                  6.25\n",
       "[17.26, 17.28)      0       0.00                 1                  6.25\n",
       "[17.28, 17.3)       0       0.00                 1                  6.25\n",
       "[17.3, 17.32)       4      25.00                 5                 31.25\n",
       "[17.32, 17.34)      0       0.00                 5                 31.25\n",
       "[17.34, 17.36)      5      31.25                10                 62.50\n",
       "[17.36, 17.38)      0       0.00                10                 62.50\n",
       "[17.38, 17.4)       2      12.50                12                 75.00\n",
       "[17.4, 17.42)       3      18.75                15                 93.75\n",
       "[17.42, 17.44)      0       0.00                15                 93.75\n",
       "[17.44, 17.46)      1       6.25                16                100.00\n",
       "[17.46, 17.48)      0       0.00                16                100.00"
      ]
     },
     "execution_count": 9,
     "metadata": {},
     "output_type": "execute_result"
    }
   ],
   "source": [
    "bins_tab = statistics.freq_table(df['agua / mL'], min_water, max_water + 0.03, 0.02)\n",
    "bins_tab"
   ]
  },
  {
   "cell_type": "markdown",
   "metadata": {},
   "source": [
    "Um intervalo de _bins_ menor permite um maior detalhamento dos dados, mas talvez não gere um histograma que seja adequado para visualização pois há intervalos sem dados. Mais abaixo serão construídos os dois histogramas.\n",
    "\n",
    "Mais detalhes sobre _bins_ e suas larguras podem ser lidos [aqui](https://en.wikipedia.org/wiki/Histogram#Number_of_bins_and_width)."
   ]
  },
  {
   "cell_type": "markdown",
   "metadata": {},
   "source": [
    "### $KMnO_4$"
   ]
  },
  {
   "cell_type": "markdown",
   "metadata": {},
   "source": [
    "Vamos obter os valores mínimos e máximos de leitura."
   ]
  },
  {
   "cell_type": "code",
   "execution_count": 10,
   "metadata": {
    "ExecuteTime": {
     "end_time": "2020-01-16T16:31:20.239262Z",
     "start_time": "2020-01-16T16:31:20.062507Z"
    }
   },
   "outputs": [],
   "source": [
    "min_perm = df['KMnO4 / mL'].min()\n",
    "max_perm = df['KMnO4 / mL'].max()"
   ]
  },
  {
   "cell_type": "markdown",
   "metadata": {},
   "source": [
    "Testando intervalo de _bins_ de 0.02."
   ]
  },
  {
   "cell_type": "code",
   "execution_count": 11,
   "metadata": {
    "ExecuteTime": {
     "end_time": "2020-01-16T16:31:20.433002Z",
     "start_time": "2020-01-16T16:31:20.243313Z"
    }
   },
   "outputs": [
    {
     "data": {
      "text/html": [
       "<div>\n",
       "<style scoped>\n",
       "    .dataframe tbody tr th:only-of-type {\n",
       "        vertical-align: middle;\n",
       "    }\n",
       "\n",
       "    .dataframe tbody tr th {\n",
       "        vertical-align: top;\n",
       "    }\n",
       "\n",
       "    .dataframe thead th {\n",
       "        text-align: right;\n",
       "    }\n",
       "</style>\n",
       "<table border=\"1\" class=\"dataframe\">\n",
       "  <thead>\n",
       "    <tr style=\"text-align: right;\">\n",
       "      <th></th>\n",
       "      <th>Count</th>\n",
       "      <th>Count / %</th>\n",
       "      <th>Cumulative count</th>\n",
       "      <th>Cumulative count / %</th>\n",
       "    </tr>\n",
       "    <tr>\n",
       "      <th>Bins</th>\n",
       "      <th></th>\n",
       "      <th></th>\n",
       "      <th></th>\n",
       "      <th></th>\n",
       "    </tr>\n",
       "  </thead>\n",
       "  <tbody>\n",
       "    <tr>\n",
       "      <th>[15.08, 15.1)</th>\n",
       "      <td>2</td>\n",
       "      <td>12.50</td>\n",
       "      <td>2</td>\n",
       "      <td>12.50</td>\n",
       "    </tr>\n",
       "    <tr>\n",
       "      <th>[15.1, 15.12)</th>\n",
       "      <td>9</td>\n",
       "      <td>56.25</td>\n",
       "      <td>11</td>\n",
       "      <td>68.75</td>\n",
       "    </tr>\n",
       "    <tr>\n",
       "      <th>[15.12, 15.14)</th>\n",
       "      <td>2</td>\n",
       "      <td>12.50</td>\n",
       "      <td>13</td>\n",
       "      <td>81.25</td>\n",
       "    </tr>\n",
       "    <tr>\n",
       "      <th>[15.14, 15.16)</th>\n",
       "      <td>1</td>\n",
       "      <td>6.25</td>\n",
       "      <td>14</td>\n",
       "      <td>87.50</td>\n",
       "    </tr>\n",
       "    <tr>\n",
       "      <th>[15.16, 15.18)</th>\n",
       "      <td>0</td>\n",
       "      <td>0.00</td>\n",
       "      <td>14</td>\n",
       "      <td>87.50</td>\n",
       "    </tr>\n",
       "    <tr>\n",
       "      <th>[15.18, 15.2)</th>\n",
       "      <td>0</td>\n",
       "      <td>0.00</td>\n",
       "      <td>14</td>\n",
       "      <td>87.50</td>\n",
       "    </tr>\n",
       "    <tr>\n",
       "      <th>[15.2, 15.22)</th>\n",
       "      <td>2</td>\n",
       "      <td>12.50</td>\n",
       "      <td>16</td>\n",
       "      <td>100.00</td>\n",
       "    </tr>\n",
       "  </tbody>\n",
       "</table>\n",
       "</div>"
      ],
      "text/plain": [
       "                Count  Count / %  Cumulative count  Cumulative count / %\n",
       "Bins                                                                    \n",
       "[15.08, 15.1)       2      12.50                 2                 12.50\n",
       "[15.1, 15.12)       9      56.25                11                 68.75\n",
       "[15.12, 15.14)      2      12.50                13                 81.25\n",
       "[15.14, 15.16)      1       6.25                14                 87.50\n",
       "[15.16, 15.18)      0       0.00                14                 87.50\n",
       "[15.18, 15.2)       0       0.00                14                 87.50\n",
       "[15.2, 15.22)       2      12.50                16                100.00"
      ]
     },
     "execution_count": 11,
     "metadata": {},
     "output_type": "execute_result"
    }
   ],
   "source": [
    "bins_tab = statistics.freq_table(df['KMnO4 / mL'], min_perm, max_perm + 0.03, 0.02)\n",
    "bins_tab"
   ]
  },
  {
   "cell_type": "markdown",
   "metadata": {},
   "source": [
    "Testando intervalo de bins de 0.05, já buscando uma escala de valores múltiplos de 5:"
   ]
  },
  {
   "cell_type": "code",
   "execution_count": 12,
   "metadata": {
    "ExecuteTime": {
     "end_time": "2020-01-16T16:31:20.739826Z",
     "start_time": "2020-01-16T16:31:20.433986Z"
    }
   },
   "outputs": [
    {
     "data": {
      "text/html": [
       "<div>\n",
       "<style scoped>\n",
       "    .dataframe tbody tr th:only-of-type {\n",
       "        vertical-align: middle;\n",
       "    }\n",
       "\n",
       "    .dataframe tbody tr th {\n",
       "        vertical-align: top;\n",
       "    }\n",
       "\n",
       "    .dataframe thead th {\n",
       "        text-align: right;\n",
       "    }\n",
       "</style>\n",
       "<table border=\"1\" class=\"dataframe\">\n",
       "  <thead>\n",
       "    <tr style=\"text-align: right;\">\n",
       "      <th></th>\n",
       "      <th>Count</th>\n",
       "      <th>Count / %</th>\n",
       "      <th>Cumulative count</th>\n",
       "      <th>Cumulative count / %</th>\n",
       "    </tr>\n",
       "    <tr>\n",
       "      <th>Bins</th>\n",
       "      <th></th>\n",
       "      <th></th>\n",
       "      <th></th>\n",
       "      <th></th>\n",
       "    </tr>\n",
       "  </thead>\n",
       "  <tbody>\n",
       "    <tr>\n",
       "      <th>[15.05, 15.1)</th>\n",
       "      <td>9</td>\n",
       "      <td>56.25</td>\n",
       "      <td>9</td>\n",
       "      <td>56.25</td>\n",
       "    </tr>\n",
       "    <tr>\n",
       "      <th>[15.1, 15.15)</th>\n",
       "      <td>5</td>\n",
       "      <td>31.25</td>\n",
       "      <td>14</td>\n",
       "      <td>87.50</td>\n",
       "    </tr>\n",
       "    <tr>\n",
       "      <th>[15.15, 15.2)</th>\n",
       "      <td>2</td>\n",
       "      <td>12.50</td>\n",
       "      <td>16</td>\n",
       "      <td>100.00</td>\n",
       "    </tr>\n",
       "  </tbody>\n",
       "</table>\n",
       "</div>"
      ],
      "text/plain": [
       "               Count  Count / %  Cumulative count  Cumulative count / %\n",
       "Bins                                                                   \n",
       "[15.05, 15.1)      9      56.25                 9                 56.25\n",
       "[15.1, 15.15)      5      31.25                14                 87.50\n",
       "[15.15, 15.2)      2      12.50                16                100.00"
      ]
     },
     "execution_count": 12,
     "metadata": {},
     "output_type": "execute_result"
    }
   ],
   "source": [
    "bins_tab = statistics.freq_table(df['KMnO4 / mL'], min_perm-0.03, max_perm + 0.03, 0.05)\n",
    "bins_tab"
   ]
  },
  {
   "cell_type": "markdown",
   "metadata": {
    "ExecuteTime": {
     "end_time": "2019-03-25T02:21:54.696145Z",
     "start_time": "2019-03-25T02:21:54.694321Z"
    }
   },
   "source": [
    "# Plots"
   ]
  },
  {
   "cell_type": "markdown",
   "metadata": {},
   "source": [
    "Para os gráficos, inicialmente criamos uma figura com dois sistemas de eixo, um acima do outro e compartilhando o mesmo eixo horizontal. Assim, passamos esses eixos para a função de histograma e de boxplot e os gráficos irão compartilhar os mesmos valores e serão apresentados um acima do outro."
   ]
  },
  {
   "cell_type": "markdown",
   "metadata": {},
   "source": [
    "## Água"
   ]
  },
  {
   "cell_type": "markdown",
   "metadata": {},
   "source": [
    "Testando plot com intervalo de bins 0.02."
   ]
  },
  {
   "cell_type": "code",
   "execution_count": 13,
   "metadata": {
    "ExecuteTime": {
     "end_time": "2020-01-16T16:31:21.283732Z",
     "start_time": "2020-01-16T16:31:20.740879Z"
    },
    "code_folding": []
   },
   "outputs": [
    {
     "data": {
      "image/png": "[encoded data removed]",
      "text/plain": [
       "<Figure size 864x576 with 2 Axes>"
      ]
     },
     "metadata": {},
     "output_type": "display_data"
    }
   ],
   "source": [
    "fig1, (ax2, ax1) = plt.subplots(figsize=(12, 8),\n",
    "                                nrows=2,\n",
    "                                sharex=True,\n",
    "                                facecolor=(1, 1, 1),\n",
    "                                gridspec_kw={\n",
    "                                    \"height_ratios\": (.15, .85),\n",
    "                                    'hspace': 0.02\n",
    "                                })\n",
    "\n",
    "statistics.plot_hist(df['agua / mL'], min_water, max_water + 0.01, 0.02, ax=ax1)\n",
    "statistics.plot_boxplot(df['agua / mL'], ax=ax2)\n",
    "\n",
    "fig1.subplots_adjust(top=0.90)\n",
    "fig1.suptitle('Análise estatística - Água', fontsize=20)\n",
    "\n",
    "plt.show()"
   ]
  },
  {
   "cell_type": "markdown",
   "metadata": {},
   "source": [
    "Testando plot com intervalo de bins 0.05."
   ]
  },
  {
   "cell_type": "code",
   "execution_count": 14,
   "metadata": {
    "ExecuteTime": {
     "end_time": "2020-01-16T16:31:21.550588Z",
     "start_time": "2020-01-16T16:31:21.285962Z"
    }
   },
   "outputs": [
    {
     "data": {
      "image/png": "[encoded data removed]",
      "text/plain": [
       "<Figure size 864x576 with 2 Axes>"
      ]
     },
     "metadata": {},
     "output_type": "display_data"
    }
   ],
   "source": [
    "fig2, (ax2, ax1) = plt.subplots(figsize=(12, 8),\n",
    "                                nrows=2,\n",
    "                                sharex=True,\n",
    "                                facecolor=(1, 1, 1),\n",
    "                                gridspec_kw={\n",
    "                                    \"height_ratios\": (.15, .85),\n",
    "                                    'hspace': 0.02\n",
    "                                })\n",
    "\n",
    "statistics.plot_hist(df['agua / mL'], min_water - 0.02, max_water + 0.01, 0.05, ax=ax1)\n",
    "statistics.plot_boxplot(df['agua / mL'], ax=ax2)\n",
    "\n",
    "fig2.subplots_adjust(top=0.90)\n",
    "fig2.suptitle('Análise estatística - Água', fontsize=20)\n",
    "\n",
    "plt.show()"
   ]
  },
  {
   "cell_type": "markdown",
   "metadata": {},
   "source": [
    "## $KMnO_4$"
   ]
  },
  {
   "cell_type": "markdown",
   "metadata": {},
   "source": [
    "Testando plot com intervalo de bins 0.02."
   ]
  },
  {
   "cell_type": "code",
   "execution_count": 15,
   "metadata": {
    "ExecuteTime": {
     "end_time": "2020-01-16T16:31:21.989035Z",
     "start_time": "2020-01-16T16:31:21.552342Z"
    }
   },
   "outputs": [
    {
     "data": {
      "image/png": "[encoded data removed]",
      "text/plain": [
       "<Figure size 864x576 with 2 Axes>"
      ]
     },
     "metadata": {},
     "output_type": "display_data"
    }
   ],
   "source": [
    "fig3, (ax2, ax1) = plt.subplots(figsize=(12, 8),\n",
    "                                nrows=2,\n",
    "                                sharex=True,\n",
    "                                facecolor=(1, 1, 1),\n",
    "                                gridspec_kw={\n",
    "                                    \"height_ratios\": (.15, .85),\n",
    "                                    'hspace': 0.02\n",
    "                                })\n",
    "\n",
    "statistics.plot_hist(df['KMnO4 / mL'], min_perm, max_perm + 0.03, 0.02, ax=ax1, outlier=True)\n",
    "statistics.plot_boxplot(df['KMnO4 / mL'], ax=ax2)\n",
    "\n",
    "fig3.subplots_adjust(top=0.90)\n",
    "fig3.suptitle('Análise estatística - $KMnO_4$', fontsize=20)\n",
    "\n",
    "plt.show()"
   ]
  },
  {
   "cell_type": "markdown",
   "metadata": {},
   "source": [
    "Testando plot com intervalo de bins 0.05."
   ]
  },
  {
   "cell_type": "code",
   "execution_count": 16,
   "metadata": {
    "ExecuteTime": {
     "end_time": "2020-01-16T16:31:22.200837Z",
     "start_time": "2020-01-16T16:31:21.990206Z"
    }
   },
   "outputs": [
    {
     "data": {
      "image/png": "[encoded data removed]",
      "text/plain": [
       "<Figure size 864x576 with 2 Axes>"
      ]
     },
     "metadata": {},
     "output_type": "display_data"
    }
   ],
   "source": [
    "fig4, (ax2, ax1) = plt.subplots(figsize=(12, 8),\n",
    "                                nrows=2,\n",
    "                                sharex=True,\n",
    "                                facecolor=(1, 1, 1),\n",
    "                                gridspec_kw={\n",
    "                                    \"height_ratios\": (.15, .85),\n",
    "                                    'hspace': 0.02\n",
    "                                })\n",
    "\n",
    "statistics.plot_hist(df['KMnO4 / mL'], min_perm - 0.03, max_perm + 0.01, 0.05, ax=ax1, outlier=False)\n",
    "statistics.plot_boxplot(df['KMnO4 / mL'], ax=ax2)\n",
    "\n",
    "fig4.subplots_adjust(top=0.90)\n",
    "fig4.suptitle('Análise estatística - $KMnO_4$', fontsize=20)\n",
    "\n",
    "plt.show()"
   ]
  },
  {
   "cell_type": "markdown",
   "metadata": {},
   "source": [
    "Repare como nesse caso o intervalo de _bins_ maior é inadequado para a visualização dos dados pois não permite discernir a região de maior acúmulo de leituras nem os outliers sem o auxílio do boxplot que se torna o único gráfico de onde é possível retirar informações com essa configuração de _bins_."
   ]
  },
  {
   "cell_type": "markdown",
   "metadata": {},
   "source": [
    "# Informação de versão dos packages utilizados"
   ]
  },
  {
   "cell_type": "code",
   "execution_count": 17,
   "metadata": {
    "ExecuteTime": {
     "end_time": "2020-01-16T16:31:22.303776Z",
     "start_time": "2020-01-16T16:31:22.202179Z"
    }
   },
   "outputs": [
    {
     "data": {
      "application/json": {
       "Software versions": [
        {
         "module": "Python",
         "version": "3.7.3 64bit [GCC 7.3.0]"
        },
        {
         "module": "IPython",
         "version": "7.4.0"
        },
        {
         "module": "OS",
         "version": "Linux 5.0.0 32 generic x86_64 with debian buster sid"
        },
        {
         "module": "pandas",
         "version": "0.24.2"
        },
        {
         "module": "numpy",
         "version": "1.16.2"
        },
        {
         "module": "matplotlib",
         "version": "3.0.3"
        }
       ]
      },
      "text/html": [
       "<table><tr><th>Software</th><th>Version</th></tr><tr><td>Python</td><td>3.7.3 64bit [GCC 7.3.0]</td></tr><tr><td>IPython</td><td>7.4.0</td></tr><tr><td>OS</td><td>Linux 5.0.0 32 generic x86_64 with debian buster sid</td></tr><tr><td>pandas</td><td>0.24.2</td></tr><tr><td>numpy</td><td>1.16.2</td></tr><tr><td>matplotlib</td><td>3.0.3</td></tr><tr><td colspan='2'>Thu Jan 16 13:31:22 2020 -03</td></tr></table>"
      ],
      "text/latex": [
       "\\begin{tabular}{|l|l|}\\hline\n",
       "{\\bf Software} & {\\bf Version} \\\\ \\hline\\hline\n",
       "Python & 3.7.3 64bit [GCC 7.3.0] \\\\ \\hline\n",
       "IPython & 7.4.0 \\\\ \\hline\n",
       "OS & Linux 5.0.0 32 generic x86\\_64 with debian buster sid \\\\ \\hline\n",
       "pandas & 0.24.2 \\\\ \\hline\n",
       "numpy & 1.16.2 \\\\ \\hline\n",
       "matplotlib & 3.0.3 \\\\ \\hline\n",
       "\\hline \\multicolumn{2}{|l|}{Thu Jan 16 13:31:22 2020 -03} \\\\ \\hline\n",
       "\\end{tabular}\n"
      ],
      "text/plain": [
       "Software versions\n",
       "Python 3.7.3 64bit [GCC 7.3.0]\n",
       "IPython 7.4.0\n",
       "OS Linux 5.0.0 32 generic x86_64 with debian buster sid\n",
       "pandas 0.24.2\n",
       "numpy 1.16.2\n",
       "matplotlib 3.0.3\n",
       "Thu Jan 16 13:31:22 2020 -03"
      ]
     },
     "execution_count": 17,
     "metadata": {},
     "output_type": "execute_result"
    }
   ],
   "source": [
    "%load_ext version_information\n",
    "%version_information pandas, numpy, matplotlib"
   ]
  },
  {
   "cell_type": "code",
   "execution_count": null,
   "metadata": {},
   "outputs": [],
   "source": []
  }
 ],
 "metadata": {
  "hide_input": false,
  "kernelspec": {
   "display_name": "Python 3",
   "language": "python",
   "name": "python3"
  },
  "language_info": {
   "codemirror_mode": {
    "name": "ipython",
    "version": 3
   },
   "file_extension": ".py",
   "mimetype": "text/x-python",
   "name": "python",
   "nbconvert_exporter": "python",
   "pygments_lexer": "ipython3",
   "version": "3.7.3"
  },
  "toc": {
   "base_numbering": 1,
   "nav_menu": {
    "height": "73px",
    "width": "218px"
   },
   "number_sections": true,
   "sideBar": true,
   "skip_h1_title": false,
   "title_cell": "Table of Contents",
   "title_sidebar": "Contents",
   "toc_cell": false,
   "toc_position": {
    "height": "calc(100% - 180px)",
    "left": "10px",
    "top": "150px",
    "width": "194.8px"
   },
   "toc_section_display": true,
   "toc_window_display": true
  },
  "varInspector": {
   "cols": {
    "lenName": 16,
    "lenType": 16,
    "lenVar": 40
   },
   "kernels_config": {
    "python": {
     "delete_cmd_postfix": "",
     "delete_cmd_prefix": "del ",
     "library": "var_list.py",
     "varRefreshCmd": "print(var_dic_list())"
    },
    "r": {
     "delete_cmd_postfix": ") ",
     "delete_cmd_prefix": "rm(",
     "library": "var_list.r",
     "varRefreshCmd": "cat(var_dic_list()) "
    }
   },
   "types_to_exclude": [
    "module",
    "function",
    "builtin_function_or_method",
    "instance",
    "_Feature"
   ],
   "window_display": false
  }
 },
 "nbformat": 4,
 "nbformat_minor": 2
}
